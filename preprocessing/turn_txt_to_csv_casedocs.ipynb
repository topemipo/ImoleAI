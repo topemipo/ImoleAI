{
  "cells": [
    {
      "cell_type": "code",
      "execution_count": 2,
      "metadata": {
        "id": "W5EOtTiTxGId"
      },
      "outputs": [],
      "source": [
        "import csv\n",
        "import pandas as pd"
      ]
    },
    {
      "cell_type": "code",
      "execution_count": 3,
      "metadata": {},
      "outputs": [
        {
          "name": "stdout",
          "output_type": "stream",
          "text": [
            "145700\n"
          ]
        }
      ],
      "source": [
        "y = 50*2914\n",
        "print(y)"
      ]
    },
    {
      "cell_type": "code",
      "execution_count": 4,
      "metadata": {
        "id": "UVC6tLvVxIUU"
      },
      "outputs": [],
      "source": [
        "# define file paths\n",
        "txt_file = 'relevance_judgments_priorcases.txt'\n",
        "csv_file = 'relevance_judgments_priorcases.csv'"
      ]
    },
    {
      "cell_type": "code",
      "execution_count": 5,
      "metadata": {
        "id": "wh-JHz7ZyTMf"
      },
      "outputs": [],
      "source": [
        "# Open the input file and the output CSV file\n",
        "with open(txt_file, 'r') as infile, open(csv_file, 'w', newline='') as outfile:\n",
        "    # Define CSV writer and write the header row\n",
        "    writer = csv.writer(outfile)\n",
        "    writer.writerow(['Query_ID', 'Iteration', 'Document_ID', 'Relevance'])\n",
        "\n",
        "    # Read through each line of the input file and write to CSV\n",
        "    for line in infile:\n",
        "        parts = line.strip().split()\n",
        "        writer.writerow(parts)"
      ]
    },
    {
      "cell_type": "code",
      "execution_count": 6,
      "metadata": {
        "colab": {
          "base_uri": "https://localhost:8080/",
          "height": 238
        },
        "id": "lFEdXZvgybSM",
        "outputId": "6bd2b50d-feea-4428-bdfd-bcb591771fa3"
      },
      "outputs": [
        {
          "name": "stdout",
          "output_type": "stream",
          "text": [
            "(145700, 4)\n"
          ]
        },
        {
          "data": {
            "application/vnd.microsoft.datawrangler.viewer.v0+json": {
              "columns": [
                {
                  "name": "index",
                  "rawType": "int64",
                  "type": "integer"
                },
                {
                  "name": "Query_ID",
                  "rawType": "object",
                  "type": "string"
                },
                {
                  "name": "Iteration",
                  "rawType": "object",
                  "type": "string"
                },
                {
                  "name": "Document_ID",
                  "rawType": "object",
                  "type": "string"
                },
                {
                  "name": "Relevance",
                  "rawType": "int64",
                  "type": "integer"
                },
                {
                  "name": "Query_ID_numeric",
                  "rawType": "int64",
                  "type": "integer"
                },
                {
                  "name": "Document_ID_numeric",
                  "rawType": "int64",
                  "type": "integer"
                }
              ],
              "conversionMethod": "pd.DataFrame",
              "ref": "29b4997b-4587-4a3c-a7ef-2d110cc3d873",
              "rows": [
                [
                  "0",
                  "AILA_Q1",
                  "Q0",
                  "C1",
                  "0",
                  "1",
                  "1"
                ],
                [
                  "2913",
                  "AILA_Q1",
                  "Q0",
                  "C2914",
                  "0",
                  "1",
                  "2914"
                ],
                [
                  "2914",
                  "AILA_Q2",
                  "Q0",
                  "C1",
                  "0",
                  "2",
                  "1"
                ],
                [
                  "5827",
                  "AILA_Q2",
                  "Q0",
                  "C2914",
                  "0",
                  "2",
                  "2914"
                ],
                [
                  "5828",
                  "AILA_Q3",
                  "Q0",
                  "C1",
                  "1",
                  "3",
                  "1"
                ],
                [
                  "8741",
                  "AILA_Q3",
                  "Q0",
                  "C2914",
                  "0",
                  "3",
                  "2914"
                ]
              ],
              "shape": {
                "columns": 6,
                "rows": 6
              }
            },
            "text/html": [
              "<div>\n",
              "<style scoped>\n",
              "    .dataframe tbody tr th:only-of-type {\n",
              "        vertical-align: middle;\n",
              "    }\n",
              "\n",
              "    .dataframe tbody tr th {\n",
              "        vertical-align: top;\n",
              "    }\n",
              "\n",
              "    .dataframe thead th {\n",
              "        text-align: right;\n",
              "    }\n",
              "</style>\n",
              "<table border=\"1\" class=\"dataframe\">\n",
              "  <thead>\n",
              "    <tr style=\"text-align: right;\">\n",
              "      <th></th>\n",
              "      <th>Query_ID</th>\n",
              "      <th>Iteration</th>\n",
              "      <th>Document_ID</th>\n",
              "      <th>Relevance</th>\n",
              "      <th>Query_ID_numeric</th>\n",
              "      <th>Document_ID_numeric</th>\n",
              "    </tr>\n",
              "  </thead>\n",
              "  <tbody>\n",
              "    <tr>\n",
              "      <th>0</th>\n",
              "      <td>AILA_Q1</td>\n",
              "      <td>Q0</td>\n",
              "      <td>C1</td>\n",
              "      <td>0</td>\n",
              "      <td>1</td>\n",
              "      <td>1</td>\n",
              "    </tr>\n",
              "    <tr>\n",
              "      <th>2913</th>\n",
              "      <td>AILA_Q1</td>\n",
              "      <td>Q0</td>\n",
              "      <td>C2914</td>\n",
              "      <td>0</td>\n",
              "      <td>1</td>\n",
              "      <td>2914</td>\n",
              "    </tr>\n",
              "    <tr>\n",
              "      <th>2914</th>\n",
              "      <td>AILA_Q2</td>\n",
              "      <td>Q0</td>\n",
              "      <td>C1</td>\n",
              "      <td>0</td>\n",
              "      <td>2</td>\n",
              "      <td>1</td>\n",
              "    </tr>\n",
              "    <tr>\n",
              "      <th>5827</th>\n",
              "      <td>AILA_Q2</td>\n",
              "      <td>Q0</td>\n",
              "      <td>C2914</td>\n",
              "      <td>0</td>\n",
              "      <td>2</td>\n",
              "      <td>2914</td>\n",
              "    </tr>\n",
              "    <tr>\n",
              "      <th>5828</th>\n",
              "      <td>AILA_Q3</td>\n",
              "      <td>Q0</td>\n",
              "      <td>C1</td>\n",
              "      <td>1</td>\n",
              "      <td>3</td>\n",
              "      <td>1</td>\n",
              "    </tr>\n",
              "    <tr>\n",
              "      <th>8741</th>\n",
              "      <td>AILA_Q3</td>\n",
              "      <td>Q0</td>\n",
              "      <td>C2914</td>\n",
              "      <td>0</td>\n",
              "      <td>3</td>\n",
              "      <td>2914</td>\n",
              "    </tr>\n",
              "  </tbody>\n",
              "</table>\n",
              "</div>"
            ],
            "text/plain": [
              "     Query_ID Iteration Document_ID  Relevance  Query_ID_numeric  \\\n",
              "0     AILA_Q1        Q0          C1          0                 1   \n",
              "2913  AILA_Q1        Q0       C2914          0                 1   \n",
              "2914  AILA_Q2        Q0          C1          0                 2   \n",
              "5827  AILA_Q2        Q0       C2914          0                 2   \n",
              "5828  AILA_Q3        Q0          C1          1                 3   \n",
              "8741  AILA_Q3        Q0       C2914          0                 3   \n",
              "\n",
              "      Document_ID_numeric  \n",
              "0                       1  \n",
              "2913                 2914  \n",
              "2914                    1  \n",
              "5827                 2914  \n",
              "5828                    1  \n",
              "8741                 2914  "
            ]
          },
          "execution_count": 6,
          "metadata": {},
          "output_type": "execute_result"
        }
      ],
      "source": [
        "df = pd.read_csv('relevance_judgments_priorcases.csv')\n",
        "print(df.shape)\n",
        "\n",
        "df['Query_ID_numeric']= df['Query_ID'].str.extract('(\\\\d+)').astype(int)\n",
        "df['Document_ID_numeric'] = df['Document_ID'].str.extract('(\\\\d+)').astype(int)\n",
        "\n",
        "df.sort_values(by=['Query_ID_numeric', 'Document_ID_numeric'], inplace=True)\n",
        "df.reset_index(drop=True, inplace=True)\n",
        "\n",
        "df\n",
        "\n",
        "# #df.drop(columns=['Query_ID_numeric'], inplace=True)  # Remove the temporary column if not needed\n",
        "# #df.drop(columns=['Document_ID_numeric'], inplace=True)  # Remove the temporary column if not needed\n",
        "\n",
        "#verify it was arranged as i wanted\n",
        "df.iloc[[0,2913,2914,5827,5828,8741],:]"
      ]
    },
    {
      "cell_type": "code",
      "execution_count": 7,
      "metadata": {
        "colab": {
          "base_uri": "https://localhost:8080/",
          "height": 424
        },
        "id": "0ItsdTBN-1Se",
        "outputId": "44c6fc42-1a89-445b-cd72-70694a28e076"
      },
      "outputs": [
        {
          "data": {
            "application/vnd.microsoft.datawrangler.viewer.v0+json": {
              "columns": [
                {
                  "name": "index",
                  "rawType": "int64",
                  "type": "integer"
                },
                {
                  "name": "Query_ID",
                  "rawType": "object",
                  "type": "string"
                },
                {
                  "name": "Document_ID",
                  "rawType": "object",
                  "type": "string"
                }
              ],
              "conversionMethod": "pd.DataFrame",
              "ref": "497a2e74-c12d-4baa-a879-ac2bedfd5219",
              "rows": [
                [
                  "0",
                  "AILA_Q1",
                  "C9"
                ],
                [
                  "1",
                  "AILA_Q1",
                  "C14"
                ],
                [
                  "2",
                  "AILA_Q2",
                  "C22"
                ],
                [
                  "3",
                  "AILA_Q2",
                  "C27"
                ],
                [
                  "4",
                  "AILA_Q3",
                  "C1"
                ],
                [
                  "5",
                  "AILA_Q4",
                  "C182"
                ],
                [
                  "6",
                  "AILA_Q5",
                  "C36"
                ],
                [
                  "7",
                  "AILA_Q5",
                  "C54"
                ],
                [
                  "8",
                  "AILA_Q5",
                  "C121"
                ],
                [
                  "9",
                  "AILA_Q5",
                  "C144"
                ],
                [
                  "10",
                  "AILA_Q5",
                  "C155"
                ],
                [
                  "11",
                  "AILA_Q6",
                  "C19"
                ],
                [
                  "12",
                  "AILA_Q6",
                  "C26"
                ],
                [
                  "13",
                  "AILA_Q6",
                  "C99"
                ],
                [
                  "14",
                  "AILA_Q6",
                  "C152"
                ],
                [
                  "15",
                  "AILA_Q7",
                  "C130"
                ],
                [
                  "16",
                  "AILA_Q8",
                  "C32"
                ],
                [
                  "17",
                  "AILA_Q8",
                  "C60"
                ],
                [
                  "18",
                  "AILA_Q8",
                  "C125"
                ],
                [
                  "19",
                  "AILA_Q9",
                  "C42"
                ],
                [
                  "20",
                  "AILA_Q9",
                  "C90"
                ],
                [
                  "21",
                  "AILA_Q10",
                  "C86"
                ],
                [
                  "22",
                  "AILA_Q10",
                  "C180"
                ],
                [
                  "23",
                  "AILA_Q10",
                  "C185"
                ],
                [
                  "24",
                  "AILA_Q11",
                  "C131"
                ],
                [
                  "25",
                  "AILA_Q11",
                  "C132"
                ],
                [
                  "26",
                  "AILA_Q12",
                  "C8"
                ],
                [
                  "27",
                  "AILA_Q13",
                  "C40"
                ],
                [
                  "28",
                  "AILA_Q13",
                  "C102"
                ],
                [
                  "29",
                  "AILA_Q13",
                  "C120"
                ],
                [
                  "30",
                  "AILA_Q14",
                  "C46"
                ],
                [
                  "31",
                  "AILA_Q15",
                  "C185"
                ],
                [
                  "32",
                  "AILA_Q16",
                  "C50"
                ],
                [
                  "33",
                  "AILA_Q16",
                  "C166"
                ],
                [
                  "34",
                  "AILA_Q17",
                  "C23"
                ],
                [
                  "35",
                  "AILA_Q17",
                  "C67"
                ],
                [
                  "36",
                  "AILA_Q17",
                  "C145"
                ],
                [
                  "37",
                  "AILA_Q18",
                  "C188"
                ],
                [
                  "38",
                  "AILA_Q19",
                  "C63"
                ],
                [
                  "39",
                  "AILA_Q19",
                  "C77"
                ],
                [
                  "40",
                  "AILA_Q19",
                  "C89"
                ],
                [
                  "41",
                  "AILA_Q19",
                  "C142"
                ],
                [
                  "42",
                  "AILA_Q20",
                  "C134"
                ],
                [
                  "43",
                  "AILA_Q20",
                  "C168"
                ],
                [
                  "44",
                  "AILA_Q21",
                  "C28"
                ],
                [
                  "45",
                  "AILA_Q21",
                  "C48"
                ],
                [
                  "46",
                  "AILA_Q21",
                  "C113"
                ],
                [
                  "47",
                  "AILA_Q21",
                  "C114"
                ],
                [
                  "48",
                  "AILA_Q22",
                  "C11"
                ],
                [
                  "49",
                  "AILA_Q22",
                  "C118"
                ]
              ],
              "shape": {
                "columns": 2,
                "rows": 195
              }
            },
            "text/html": [
              "<div>\n",
              "<style scoped>\n",
              "    .dataframe tbody tr th:only-of-type {\n",
              "        vertical-align: middle;\n",
              "    }\n",
              "\n",
              "    .dataframe tbody tr th {\n",
              "        vertical-align: top;\n",
              "    }\n",
              "\n",
              "    .dataframe thead th {\n",
              "        text-align: right;\n",
              "    }\n",
              "</style>\n",
              "<table border=\"1\" class=\"dataframe\">\n",
              "  <thead>\n",
              "    <tr style=\"text-align: right;\">\n",
              "      <th></th>\n",
              "      <th>Query_ID</th>\n",
              "      <th>Document_ID</th>\n",
              "    </tr>\n",
              "  </thead>\n",
              "  <tbody>\n",
              "    <tr>\n",
              "      <th>0</th>\n",
              "      <td>AILA_Q1</td>\n",
              "      <td>C9</td>\n",
              "    </tr>\n",
              "    <tr>\n",
              "      <th>1</th>\n",
              "      <td>AILA_Q1</td>\n",
              "      <td>C14</td>\n",
              "    </tr>\n",
              "    <tr>\n",
              "      <th>2</th>\n",
              "      <td>AILA_Q2</td>\n",
              "      <td>C22</td>\n",
              "    </tr>\n",
              "    <tr>\n",
              "      <th>3</th>\n",
              "      <td>AILA_Q2</td>\n",
              "      <td>C27</td>\n",
              "    </tr>\n",
              "    <tr>\n",
              "      <th>4</th>\n",
              "      <td>AILA_Q3</td>\n",
              "      <td>C1</td>\n",
              "    </tr>\n",
              "    <tr>\n",
              "      <th>...</th>\n",
              "      <td>...</td>\n",
              "      <td>...</td>\n",
              "    </tr>\n",
              "    <tr>\n",
              "      <th>190</th>\n",
              "      <td>AILA_Q49</td>\n",
              "      <td>C76</td>\n",
              "    </tr>\n",
              "    <tr>\n",
              "      <th>191</th>\n",
              "      <td>AILA_Q49</td>\n",
              "      <td>C92</td>\n",
              "    </tr>\n",
              "    <tr>\n",
              "      <th>192</th>\n",
              "      <td>AILA_Q49</td>\n",
              "      <td>C174</td>\n",
              "    </tr>\n",
              "    <tr>\n",
              "      <th>193</th>\n",
              "      <td>AILA_Q50</td>\n",
              "      <td>C22</td>\n",
              "    </tr>\n",
              "    <tr>\n",
              "      <th>194</th>\n",
              "      <td>AILA_Q50</td>\n",
              "      <td>C27</td>\n",
              "    </tr>\n",
              "  </tbody>\n",
              "</table>\n",
              "<p>195 rows × 2 columns</p>\n",
              "</div>"
            ],
            "text/plain": [
              "     Query_ID Document_ID\n",
              "0     AILA_Q1          C9\n",
              "1     AILA_Q1         C14\n",
              "2     AILA_Q2         C22\n",
              "3     AILA_Q2         C27\n",
              "4     AILA_Q3          C1\n",
              "..        ...         ...\n",
              "190  AILA_Q49         C76\n",
              "191  AILA_Q49         C92\n",
              "192  AILA_Q49        C174\n",
              "193  AILA_Q50         C22\n",
              "194  AILA_Q50         C27\n",
              "\n",
              "[195 rows x 2 columns]"
            ]
          },
          "execution_count": 7,
          "metadata": {},
          "output_type": "execute_result"
        }
      ],
      "source": [
        "df_relevant = df[df['Relevance'] == 1]\n",
        "df_relevant.reset_index(drop=True, inplace=True)\n",
        "\n",
        "df_relevant[['Query_ID', 'Document_ID']] #relevant columns"
      ]
    },
    {
      "cell_type": "code",
      "execution_count": 8,
      "metadata": {},
      "outputs": [
        {
          "data": {
            "text/plain": [
              "186"
            ]
          },
          "execution_count": 8,
          "metadata": {},
          "output_type": "execute_result"
        }
      ],
      "source": [
        "len(df_relevant['Document_ID'].unique())\n"
      ]
    },
    {
      "cell_type": "code",
      "execution_count": 9,
      "metadata": {},
      "outputs": [
        {
          "name": "stdout",
          "output_type": "stream",
          "text": [
            "First few rows of the DataFrame:\n",
            "  relevant_186\n",
            "0           C9\n",
            "1          C14\n",
            "2          C22\n",
            "3          C27\n",
            "4           C1\n",
            "\n",
            "Total documents saved: 186\n"
          ]
        }
      ],
      "source": [
        "# Create DataFrame with unique Document IDs\n",
        "relevant_df = pd.DataFrame(df_relevant['Document_ID'].unique(), columns=['relevant_186'])\n",
        "\n",
        "# Add .txt extension to each Document ID\n",
        "# relevant_df['relevant_186'] = relevant_df['relevant_186'] + '.txt'\n",
        "\n",
        "# Save to CSV file\n",
        "relevant_df.to_csv('relevant_186_files.csv', index=False)\n",
        "\n",
        "# Display first few rows to verify\n",
        "print(\"First few rows of the DataFrame:\")\n",
        "print(relevant_df.head())\n",
        "print(f\"\\nTotal documents saved: {len(relevant_df)}\")"
      ]
    },
    {
      "cell_type": "code",
      "execution_count": 10,
      "metadata": {
        "id": "t11YIJq1CtQ-"
      },
      "outputs": [],
      "source": [
        "# Select specific columns and save them to a CSV\n",
        "df_relevant[['Query_ID', 'Document_ID']].to_csv('queries_with_relevant_casedocs.csv', index=False)"
      ]
    },
    {
      "cell_type": "code",
      "execution_count": 11,
      "metadata": {
        "colab": {
          "base_uri": "https://localhost:8080/",
          "height": 1000
        },
        "id": "bN-S-yaa3kwG",
        "outputId": "43f9f1af-5fee-4a5e-cc30-1597dcfb6afe"
      },
      "outputs": [
        {
          "name": "stdout",
          "output_type": "stream",
          "text": [
            "Count\n",
            "2     14\n",
            "1     10\n",
            "3      7\n",
            "4      6\n",
            "5      4\n",
            "6      3\n",
            "8      1\n",
            "22     1\n",
            "10     1\n",
            "13     1\n",
            "12     1\n",
            "9      1\n",
            "Name: count, dtype: int64\n"
          ]
        },
        {
          "data": {
            "application/vnd.microsoft.datawrangler.viewer.v0+json": {
              "columns": [
                {
                  "name": "index",
                  "rawType": "int64",
                  "type": "integer"
                },
                {
                  "name": "Query_ID",
                  "rawType": "object",
                  "type": "string"
                },
                {
                  "name": "Count",
                  "rawType": "int64",
                  "type": "integer"
                }
              ],
              "conversionMethod": "pd.DataFrame",
              "ref": "c1ca89ce-7f7f-4dd8-8b22-909f40dd5f02",
              "rows": [
                [
                  "0",
                  "AILA_Q1",
                  "2"
                ],
                [
                  "1",
                  "AILA_Q2",
                  "2"
                ],
                [
                  "2",
                  "AILA_Q3",
                  "1"
                ],
                [
                  "3",
                  "AILA_Q4",
                  "1"
                ],
                [
                  "4",
                  "AILA_Q5",
                  "5"
                ],
                [
                  "5",
                  "AILA_Q6",
                  "4"
                ],
                [
                  "6",
                  "AILA_Q7",
                  "1"
                ],
                [
                  "7",
                  "AILA_Q8",
                  "3"
                ],
                [
                  "8",
                  "AILA_Q9",
                  "2"
                ],
                [
                  "9",
                  "AILA_Q10",
                  "3"
                ],
                [
                  "10",
                  "AILA_Q11",
                  "2"
                ],
                [
                  "11",
                  "AILA_Q12",
                  "1"
                ],
                [
                  "12",
                  "AILA_Q13",
                  "3"
                ],
                [
                  "13",
                  "AILA_Q14",
                  "1"
                ],
                [
                  "14",
                  "AILA_Q15",
                  "1"
                ],
                [
                  "15",
                  "AILA_Q16",
                  "2"
                ],
                [
                  "16",
                  "AILA_Q17",
                  "3"
                ],
                [
                  "17",
                  "AILA_Q18",
                  "1"
                ],
                [
                  "18",
                  "AILA_Q19",
                  "4"
                ],
                [
                  "19",
                  "AILA_Q20",
                  "2"
                ],
                [
                  "20",
                  "AILA_Q21",
                  "4"
                ],
                [
                  "21",
                  "AILA_Q22",
                  "2"
                ],
                [
                  "22",
                  "AILA_Q23",
                  "2"
                ],
                [
                  "23",
                  "AILA_Q24",
                  "1"
                ],
                [
                  "24",
                  "AILA_Q25",
                  "6"
                ],
                [
                  "25",
                  "AILA_Q26",
                  "8"
                ],
                [
                  "26",
                  "AILA_Q27",
                  "5"
                ],
                [
                  "27",
                  "AILA_Q28",
                  "2"
                ],
                [
                  "28",
                  "AILA_Q29",
                  "22"
                ],
                [
                  "29",
                  "AILA_Q30",
                  "10"
                ],
                [
                  "30",
                  "AILA_Q31",
                  "2"
                ],
                [
                  "31",
                  "AILA_Q32",
                  "3"
                ],
                [
                  "32",
                  "AILA_Q33",
                  "1"
                ],
                [
                  "33",
                  "AILA_Q34",
                  "13"
                ],
                [
                  "34",
                  "AILA_Q35",
                  "2"
                ],
                [
                  "35",
                  "AILA_Q36",
                  "6"
                ],
                [
                  "36",
                  "AILA_Q37",
                  "3"
                ],
                [
                  "37",
                  "AILA_Q38",
                  "5"
                ],
                [
                  "38",
                  "AILA_Q39",
                  "12"
                ],
                [
                  "39",
                  "AILA_Q40",
                  "2"
                ],
                [
                  "40",
                  "AILA_Q41",
                  "5"
                ],
                [
                  "41",
                  "AILA_Q42",
                  "4"
                ],
                [
                  "42",
                  "AILA_Q43",
                  "3"
                ],
                [
                  "43",
                  "AILA_Q44",
                  "6"
                ],
                [
                  "44",
                  "AILA_Q45",
                  "2"
                ],
                [
                  "45",
                  "AILA_Q46",
                  "9"
                ],
                [
                  "46",
                  "AILA_Q47",
                  "1"
                ],
                [
                  "47",
                  "AILA_Q48",
                  "4"
                ],
                [
                  "48",
                  "AILA_Q49",
                  "4"
                ],
                [
                  "49",
                  "AILA_Q50",
                  "2"
                ]
              ],
              "shape": {
                "columns": 2,
                "rows": 50
              }
            },
            "text/html": [
              "<div>\n",
              "<style scoped>\n",
              "    .dataframe tbody tr th:only-of-type {\n",
              "        vertical-align: middle;\n",
              "    }\n",
              "\n",
              "    .dataframe tbody tr th {\n",
              "        vertical-align: top;\n",
              "    }\n",
              "\n",
              "    .dataframe thead th {\n",
              "        text-align: right;\n",
              "    }\n",
              "</style>\n",
              "<table border=\"1\" class=\"dataframe\">\n",
              "  <thead>\n",
              "    <tr style=\"text-align: right;\">\n",
              "      <th></th>\n",
              "      <th>Query_ID</th>\n",
              "      <th>Count</th>\n",
              "    </tr>\n",
              "  </thead>\n",
              "  <tbody>\n",
              "    <tr>\n",
              "      <th>0</th>\n",
              "      <td>AILA_Q1</td>\n",
              "      <td>2</td>\n",
              "    </tr>\n",
              "    <tr>\n",
              "      <th>1</th>\n",
              "      <td>AILA_Q2</td>\n",
              "      <td>2</td>\n",
              "    </tr>\n",
              "    <tr>\n",
              "      <th>2</th>\n",
              "      <td>AILA_Q3</td>\n",
              "      <td>1</td>\n",
              "    </tr>\n",
              "    <tr>\n",
              "      <th>3</th>\n",
              "      <td>AILA_Q4</td>\n",
              "      <td>1</td>\n",
              "    </tr>\n",
              "    <tr>\n",
              "      <th>4</th>\n",
              "      <td>AILA_Q5</td>\n",
              "      <td>5</td>\n",
              "    </tr>\n",
              "    <tr>\n",
              "      <th>5</th>\n",
              "      <td>AILA_Q6</td>\n",
              "      <td>4</td>\n",
              "    </tr>\n",
              "    <tr>\n",
              "      <th>6</th>\n",
              "      <td>AILA_Q7</td>\n",
              "      <td>1</td>\n",
              "    </tr>\n",
              "    <tr>\n",
              "      <th>7</th>\n",
              "      <td>AILA_Q8</td>\n",
              "      <td>3</td>\n",
              "    </tr>\n",
              "    <tr>\n",
              "      <th>8</th>\n",
              "      <td>AILA_Q9</td>\n",
              "      <td>2</td>\n",
              "    </tr>\n",
              "    <tr>\n",
              "      <th>9</th>\n",
              "      <td>AILA_Q10</td>\n",
              "      <td>3</td>\n",
              "    </tr>\n",
              "    <tr>\n",
              "      <th>10</th>\n",
              "      <td>AILA_Q11</td>\n",
              "      <td>2</td>\n",
              "    </tr>\n",
              "    <tr>\n",
              "      <th>11</th>\n",
              "      <td>AILA_Q12</td>\n",
              "      <td>1</td>\n",
              "    </tr>\n",
              "    <tr>\n",
              "      <th>12</th>\n",
              "      <td>AILA_Q13</td>\n",
              "      <td>3</td>\n",
              "    </tr>\n",
              "    <tr>\n",
              "      <th>13</th>\n",
              "      <td>AILA_Q14</td>\n",
              "      <td>1</td>\n",
              "    </tr>\n",
              "    <tr>\n",
              "      <th>14</th>\n",
              "      <td>AILA_Q15</td>\n",
              "      <td>1</td>\n",
              "    </tr>\n",
              "    <tr>\n",
              "      <th>15</th>\n",
              "      <td>AILA_Q16</td>\n",
              "      <td>2</td>\n",
              "    </tr>\n",
              "    <tr>\n",
              "      <th>16</th>\n",
              "      <td>AILA_Q17</td>\n",
              "      <td>3</td>\n",
              "    </tr>\n",
              "    <tr>\n",
              "      <th>17</th>\n",
              "      <td>AILA_Q18</td>\n",
              "      <td>1</td>\n",
              "    </tr>\n",
              "    <tr>\n",
              "      <th>18</th>\n",
              "      <td>AILA_Q19</td>\n",
              "      <td>4</td>\n",
              "    </tr>\n",
              "    <tr>\n",
              "      <th>19</th>\n",
              "      <td>AILA_Q20</td>\n",
              "      <td>2</td>\n",
              "    </tr>\n",
              "    <tr>\n",
              "      <th>20</th>\n",
              "      <td>AILA_Q21</td>\n",
              "      <td>4</td>\n",
              "    </tr>\n",
              "    <tr>\n",
              "      <th>21</th>\n",
              "      <td>AILA_Q22</td>\n",
              "      <td>2</td>\n",
              "    </tr>\n",
              "    <tr>\n",
              "      <th>22</th>\n",
              "      <td>AILA_Q23</td>\n",
              "      <td>2</td>\n",
              "    </tr>\n",
              "    <tr>\n",
              "      <th>23</th>\n",
              "      <td>AILA_Q24</td>\n",
              "      <td>1</td>\n",
              "    </tr>\n",
              "    <tr>\n",
              "      <th>24</th>\n",
              "      <td>AILA_Q25</td>\n",
              "      <td>6</td>\n",
              "    </tr>\n",
              "    <tr>\n",
              "      <th>25</th>\n",
              "      <td>AILA_Q26</td>\n",
              "      <td>8</td>\n",
              "    </tr>\n",
              "    <tr>\n",
              "      <th>26</th>\n",
              "      <td>AILA_Q27</td>\n",
              "      <td>5</td>\n",
              "    </tr>\n",
              "    <tr>\n",
              "      <th>27</th>\n",
              "      <td>AILA_Q28</td>\n",
              "      <td>2</td>\n",
              "    </tr>\n",
              "    <tr>\n",
              "      <th>28</th>\n",
              "      <td>AILA_Q29</td>\n",
              "      <td>22</td>\n",
              "    </tr>\n",
              "    <tr>\n",
              "      <th>29</th>\n",
              "      <td>AILA_Q30</td>\n",
              "      <td>10</td>\n",
              "    </tr>\n",
              "    <tr>\n",
              "      <th>30</th>\n",
              "      <td>AILA_Q31</td>\n",
              "      <td>2</td>\n",
              "    </tr>\n",
              "    <tr>\n",
              "      <th>31</th>\n",
              "      <td>AILA_Q32</td>\n",
              "      <td>3</td>\n",
              "    </tr>\n",
              "    <tr>\n",
              "      <th>32</th>\n",
              "      <td>AILA_Q33</td>\n",
              "      <td>1</td>\n",
              "    </tr>\n",
              "    <tr>\n",
              "      <th>33</th>\n",
              "      <td>AILA_Q34</td>\n",
              "      <td>13</td>\n",
              "    </tr>\n",
              "    <tr>\n",
              "      <th>34</th>\n",
              "      <td>AILA_Q35</td>\n",
              "      <td>2</td>\n",
              "    </tr>\n",
              "    <tr>\n",
              "      <th>35</th>\n",
              "      <td>AILA_Q36</td>\n",
              "      <td>6</td>\n",
              "    </tr>\n",
              "    <tr>\n",
              "      <th>36</th>\n",
              "      <td>AILA_Q37</td>\n",
              "      <td>3</td>\n",
              "    </tr>\n",
              "    <tr>\n",
              "      <th>37</th>\n",
              "      <td>AILA_Q38</td>\n",
              "      <td>5</td>\n",
              "    </tr>\n",
              "    <tr>\n",
              "      <th>38</th>\n",
              "      <td>AILA_Q39</td>\n",
              "      <td>12</td>\n",
              "    </tr>\n",
              "    <tr>\n",
              "      <th>39</th>\n",
              "      <td>AILA_Q40</td>\n",
              "      <td>2</td>\n",
              "    </tr>\n",
              "    <tr>\n",
              "      <th>40</th>\n",
              "      <td>AILA_Q41</td>\n",
              "      <td>5</td>\n",
              "    </tr>\n",
              "    <tr>\n",
              "      <th>41</th>\n",
              "      <td>AILA_Q42</td>\n",
              "      <td>4</td>\n",
              "    </tr>\n",
              "    <tr>\n",
              "      <th>42</th>\n",
              "      <td>AILA_Q43</td>\n",
              "      <td>3</td>\n",
              "    </tr>\n",
              "    <tr>\n",
              "      <th>43</th>\n",
              "      <td>AILA_Q44</td>\n",
              "      <td>6</td>\n",
              "    </tr>\n",
              "    <tr>\n",
              "      <th>44</th>\n",
              "      <td>AILA_Q45</td>\n",
              "      <td>2</td>\n",
              "    </tr>\n",
              "    <tr>\n",
              "      <th>45</th>\n",
              "      <td>AILA_Q46</td>\n",
              "      <td>9</td>\n",
              "    </tr>\n",
              "    <tr>\n",
              "      <th>46</th>\n",
              "      <td>AILA_Q47</td>\n",
              "      <td>1</td>\n",
              "    </tr>\n",
              "    <tr>\n",
              "      <th>47</th>\n",
              "      <td>AILA_Q48</td>\n",
              "      <td>4</td>\n",
              "    </tr>\n",
              "    <tr>\n",
              "      <th>48</th>\n",
              "      <td>AILA_Q49</td>\n",
              "      <td>4</td>\n",
              "    </tr>\n",
              "    <tr>\n",
              "      <th>49</th>\n",
              "      <td>AILA_Q50</td>\n",
              "      <td>2</td>\n",
              "    </tr>\n",
              "  </tbody>\n",
              "</table>\n",
              "</div>"
            ],
            "text/plain": [
              "    Query_ID  Count\n",
              "0    AILA_Q1      2\n",
              "1    AILA_Q2      2\n",
              "2    AILA_Q3      1\n",
              "3    AILA_Q4      1\n",
              "4    AILA_Q5      5\n",
              "5    AILA_Q6      4\n",
              "6    AILA_Q7      1\n",
              "7    AILA_Q8      3\n",
              "8    AILA_Q9      2\n",
              "9   AILA_Q10      3\n",
              "10  AILA_Q11      2\n",
              "11  AILA_Q12      1\n",
              "12  AILA_Q13      3\n",
              "13  AILA_Q14      1\n",
              "14  AILA_Q15      1\n",
              "15  AILA_Q16      2\n",
              "16  AILA_Q17      3\n",
              "17  AILA_Q18      1\n",
              "18  AILA_Q19      4\n",
              "19  AILA_Q20      2\n",
              "20  AILA_Q21      4\n",
              "21  AILA_Q22      2\n",
              "22  AILA_Q23      2\n",
              "23  AILA_Q24      1\n",
              "24  AILA_Q25      6\n",
              "25  AILA_Q26      8\n",
              "26  AILA_Q27      5\n",
              "27  AILA_Q28      2\n",
              "28  AILA_Q29     22\n",
              "29  AILA_Q30     10\n",
              "30  AILA_Q31      2\n",
              "31  AILA_Q32      3\n",
              "32  AILA_Q33      1\n",
              "33  AILA_Q34     13\n",
              "34  AILA_Q35      2\n",
              "35  AILA_Q36      6\n",
              "36  AILA_Q37      3\n",
              "37  AILA_Q38      5\n",
              "38  AILA_Q39     12\n",
              "39  AILA_Q40      2\n",
              "40  AILA_Q41      5\n",
              "41  AILA_Q42      4\n",
              "42  AILA_Q43      3\n",
              "43  AILA_Q44      6\n",
              "44  AILA_Q45      2\n",
              "45  AILA_Q46      9\n",
              "46  AILA_Q47      1\n",
              "47  AILA_Q48      4\n",
              "48  AILA_Q49      4\n",
              "49  AILA_Q50      2"
            ]
          },
          "execution_count": 11,
          "metadata": {},
          "output_type": "execute_result"
        }
      ],
      "source": [
        "# Get the value counts as a DataFrame\n",
        "counts_df = df_relevant['Query_ID'].value_counts().reset_index()\n",
        "counts_df.columns = ['Query_ID', 'Count']\n",
        "\n",
        "# Extract the numeric part for sorting\n",
        "counts_df['Numeric_Part'] = counts_df['Query_ID'].str.extract('(\\\\d+)').astype(int)\n",
        "\n",
        "# Sort the DataFrame based on the numeric part\n",
        "sorted_counts_df = counts_df.sort_values(by='Numeric_Part').drop(columns=['Numeric_Part'])\n",
        "\n",
        "# Reset the index to get a clean result\n",
        "sorted_counts_df.reset_index(drop=True, inplace=True)\n",
        "\n",
        "print(sorted_counts_df['Count'].value_counts())\n",
        "sorted_counts_df"
      ]
    },
    {
      "cell_type": "code",
      "execution_count": 12,
      "metadata": {},
      "outputs": [
        {
          "name": "stdout",
          "output_type": "stream",
          "text": [
            "Final DataFrame shape: (2914, 2)\n",
            "\n",
            "First few rows:\n",
            "  Value  Match\n",
            "0    C1      1\n",
            "1    C2      1\n",
            "2    C3      1\n",
            "3    C4      1\n",
            "4    C5      1\n",
            "\n",
            "Data types:\n",
            "Type of Value column: object\n",
            "Number of matches found: 186\n"
          ]
        }
      ],
      "source": [
        "# Convert both to lists of strings for consistent comparison\n",
        "a = df.loc[0:2913, 'Document_ID'].astype(str).tolist()\n",
        "df2 = pd.read_csv('queries_with_relevant_casedocs.csv')\n",
        "b = df2['Document_ID'].unique().astype(str).tolist()\n",
        "\n",
        "# Create DataFrame and check matches\n",
        "a_df = pd.DataFrame(a, columns=['Value'])\n",
        "a_df['Match'] = a_df['Value'].isin(b).astype(int)\n",
        "\n",
        "# Verify the result\n",
        "print(\"Final DataFrame shape:\", a_df.shape)\n",
        "print(\"\\nFirst few rows:\")\n",
        "print(a_df.head())\n",
        "\n",
        "# Verify data types\n",
        "print(\"\\nData types:\")\n",
        "print(\"Type of Value column:\", a_df['Value'].dtype)\n",
        "print(\"Number of matches found:\", a_df['Match'].sum())"
      ]
    },
    {
      "cell_type": "code",
      "execution_count": 13,
      "metadata": {},
      "outputs": [
        {
          "data": {
            "image/png": "[encoded data removed]",
            "text/plain": [
              "<Figure size 800x600 with 1 Axes>"
            ]
          },
          "metadata": {},
          "output_type": "display_data"
        }
      ],
      "source": [
        "import matplotlib.pyplot as plt\n",
        "\n",
        "# Count the number of matches and non-matches\n",
        "match_counts = a_df['Match'].value_counts()\n",
        "\n",
        "# Create bar chart\n",
        "plt.figure(figsize=(8, 6))\n",
        "plt.bar(['Not Relevant', 'Relevant'], match_counts, color=['yellow', 'lightblue'])\n",
        "\n",
        "# Customize the chart\n",
        "plt.title('Relevance to Queries')\n",
        "plt.ylabel('Count')\n",
        "plt.text(0, match_counts[0]/2, f'n={match_counts[0]}', ha='center')\n",
        "plt.text(1, match_counts[1]/2, f'n={match_counts[1]}', ha='center')\n",
        "\n",
        "# Add grid for better readability\n",
        "# plt.grid(axis='y', linestyle='--', alpha=0.7)\n",
        "\n",
        "plt.show()"
      ]
    },
    {
      "cell_type": "code",
      "execution_count": 14,
      "metadata": {},
      "outputs": [
        {
          "name": "stdout",
          "output_type": "stream",
          "text": [
            "Number of matching documents: 186\n"
          ]
        },
        {
          "data": {
            "text/plain": [
              "0        C1\n",
              "1        C2\n",
              "2        C3\n",
              "3        C4\n",
              "4        C5\n",
              "       ... \n",
              "183    C184\n",
              "184    C185\n",
              "185    C186\n",
              "186    C187\n",
              "187    C188\n",
              "Name: Value, Length: 186, dtype: object"
            ]
          },
          "execution_count": 14,
          "metadata": {},
          "output_type": "execute_result"
        }
      ],
      "source": [
        "# Get matching documents\n",
        "matching_docs = a_df[a_df['Match'] == 1]['Value']\n",
        "\n",
        "# Display results\n",
        "print(f\"Number of matching documents: {len(matching_docs)}\")\n",
        "matching_docs"
      ]
    },
    {
      "cell_type": "code",
      "execution_count": 15,
      "metadata": {},
      "outputs": [
        {
          "data": {
            "application/vnd.microsoft.datawrangler.viewer.v0+json": {
              "columns": [
                {
                  "name": "index",
                  "rawType": "int64",
                  "type": "integer"
                },
                {
                  "name": "Query_ID",
                  "rawType": "object",
                  "type": "unknown"
                },
                {
                  "name": "Document_ID",
                  "rawType": "object",
                  "type": "string"
                }
              ],
              "conversionMethod": "pd.DataFrame",
              "ref": "dbbc1f7f-033f-48c4-8e09-356131ca091a",
              "rows": [
                [
                  "0",
                  "AILA_Q3",
                  "C1"
                ],
                [
                  "1",
                  null,
                  "C2"
                ],
                [
                  "2",
                  "AILA_Q34",
                  "C3"
                ],
                [
                  "3",
                  "AILA_Q29",
                  "C4"
                ],
                [
                  "4",
                  "AILA_Q46",
                  "C5"
                ]
              ],
              "shape": {
                "columns": 2,
                "rows": 5
              }
            },
            "text/html": [
              "<div>\n",
              "<style scoped>\n",
              "    .dataframe tbody tr th:only-of-type {\n",
              "        vertical-align: middle;\n",
              "    }\n",
              "\n",
              "    .dataframe tbody tr th {\n",
              "        vertical-align: top;\n",
              "    }\n",
              "\n",
              "    .dataframe thead th {\n",
              "        text-align: right;\n",
              "    }\n",
              "</style>\n",
              "<table border=\"1\" class=\"dataframe\">\n",
              "  <thead>\n",
              "    <tr style=\"text-align: right;\">\n",
              "      <th></th>\n",
              "      <th>Query_ID</th>\n",
              "      <th>Document_ID</th>\n",
              "    </tr>\n",
              "  </thead>\n",
              "  <tbody>\n",
              "    <tr>\n",
              "      <th>0</th>\n",
              "      <td>AILA_Q3</td>\n",
              "      <td>C1</td>\n",
              "    </tr>\n",
              "    <tr>\n",
              "      <th>1</th>\n",
              "      <td>NaN</td>\n",
              "      <td>C2</td>\n",
              "    </tr>\n",
              "    <tr>\n",
              "      <th>2</th>\n",
              "      <td>AILA_Q34</td>\n",
              "      <td>C3</td>\n",
              "    </tr>\n",
              "    <tr>\n",
              "      <th>3</th>\n",
              "      <td>AILA_Q29</td>\n",
              "      <td>C4</td>\n",
              "    </tr>\n",
              "    <tr>\n",
              "      <th>4</th>\n",
              "      <td>AILA_Q46</td>\n",
              "      <td>C5</td>\n",
              "    </tr>\n",
              "  </tbody>\n",
              "</table>\n",
              "</div>"
            ],
            "text/plain": [
              "   Query_ID Document_ID\n",
              "0   AILA_Q3          C1\n",
              "1       NaN          C2\n",
              "2  AILA_Q34          C3\n",
              "3  AILA_Q29          C4\n",
              "4  AILA_Q46          C5"
            ]
          },
          "execution_count": 15,
          "metadata": {},
          "output_type": "execute_result"
        }
      ],
      "source": [
        "relevant_186 = pd.read_csv(\"/Users/temit/Documents/Project/Coding/preprocessing/relevant_186_files.csv\")\n",
        "\n",
        "\n",
        "chosen_50 = pd.read_csv(\"/Users/temit/Documents/Project/Coding/chosen_50.csv\")\n",
        "chosen_50[[\"Query_ID\", \"Document_ID\"]].head()"
      ]
    },
    {
      "cell_type": "code",
      "execution_count": 16,
      "metadata": {},
      "outputs": [
        {
          "name": "stdout",
          "output_type": "stream",
          "text": [
            "Total documents in relevant_186: 186\n",
            "Total documents in chosen_50: 50\n",
            "Number of non-matching documents: 136\n",
            "\n",
            "First few non-matching documents:\n",
            "  relevant_186\n",
            "0           C9\n",
            "1          C54\n",
            "2         C121\n",
            "3         C144\n",
            "4         C155\n"
          ]
        }
      ],
      "source": [
        "# Find values in relevant_186 that are not in chosen_50\n",
        "non_matching_df = relevant_186[~relevant_186['relevant_186'].isin(chosen_50['Document_ID'])]\n",
        "\n",
        "# Reset index of the new DataFrame\n",
        "non_matching_df = non_matching_df.reset_index(drop=True)\n",
        "\n",
        "# Display results\n",
        "print(f\"Total documents in relevant_186: {len(relevant_186)}\")\n",
        "print(f\"Total documents in chosen_50: {len(chosen_50)}\")\n",
        "print(f\"Number of non-matching documents: {len(non_matching_df)}\")\n",
        "\n",
        "# Display first few rows of non-matching documents\n",
        "print(\"\\nFirst few non-matching documents:\")\n",
        "print(non_matching_df.head())\n",
        "\n",
        "# Optional: Add .txt extension back if needed\n",
        "non_matching_df['relevant_186'] = non_matching_df['relevant_186'] + '.txt'\n",
        "\n",
        "# Save to CSV if needed\n",
        "non_matching_df.to_csv('remaining_136.csv', index=False)"
      ]
    },
    {
      "cell_type": "code",
      "execution_count": 17,
      "metadata": {},
      "outputs": [
        {
          "name": "stdout",
          "output_type": "stream",
          "text": [
            "\n",
            "Copied 136 files to remaining_136/\n",
            "Expected files: 136\n"
          ]
        }
      ],
      "source": [
        "import os\n",
        "import shutil\n",
        "import pandas as pd\n",
        "\n",
        "# Read the CSV file\n",
        "remaining_136 = pd.read_csv('remaining_136.csv')\n",
        "\n",
        "# Create new directory for the remaining files\n",
        "output_dir = \"remaining_136\"\n",
        "if not os.path.exists(output_dir):\n",
        "    os.makedirs(output_dir)\n",
        "\n",
        "# Source directory containing the .txt files\n",
        "source_dir = \"/Users/temit/Documents/Project/Masters Dissertation/AILA_2019_dataset/Object_casedocs\"  # Change this to your source directory path\n",
        "\n",
        "# Counter for successful copies\n",
        "copied_count = 0\n",
        "\n",
        "# Iterate through the filenames in remaining_136.csv\n",
        "for filename in remaining_136['relevant_186']:\n",
        "    source_file = os.path.join(source_dir, filename)\n",
        "    dest_file = os.path.join(output_dir, filename)\n",
        "    \n",
        "    try:\n",
        "        if os.path.exists(source_file):\n",
        "            shutil.copy2(source_file, dest_file)\n",
        "            copied_count += 1\n",
        "        else:\n",
        "            print(f\"File not found: {source_file}\")\n",
        "    except Exception as e:\n",
        "        print(f\"Error copying {filename}: {str(e)}\")\n",
        "\n",
        "print(f\"\\nCopied {copied_count} files to {output_dir}/\")\n",
        "print(f\"Expected files: {len(remaining_136)}\")"
      ]
    },
    {
      "cell_type": "code",
      "execution_count": 19,
      "metadata": {},
      "outputs": [
        {
          "data": {
            "application/vnd.microsoft.datawrangler.viewer.v0+json": {
              "columns": [
                {
                  "name": "index",
                  "rawType": "int64",
                  "type": "integer"
                },
                {
                  "name": "Query_ID",
                  "rawType": "object",
                  "type": "string"
                },
                {
                  "name": "1",
                  "rawType": "object",
                  "type": "string"
                },
                {
                  "name": "2",
                  "rawType": "object",
                  "type": "string"
                },
                {
                  "name": "3",
                  "rawType": "object",
                  "type": "unknown"
                },
                {
                  "name": "4",
                  "rawType": "object",
                  "type": "unknown"
                }
              ],
              "conversionMethod": "pd.DataFrame",
              "ref": "aa6c12fb-0fb5-48e0-9c20-37ff21068818",
              "rows": [
                [
                  "0",
                  "AILA_Q1",
                  "\"I was fired from my bank job because I was accused of mishandling money in an employee housing society where I was a secretary. I was later found not guilty in court, but the bank still won't give me my job back. Do I have any legal rights to get my position back?\"",
                  "\"Can a company refuse to rehire someone after they've been cleared of criminal charges that got them fired in the first place?\"",
                  null,
                  null
                ],
                [
                  "1",
                  "AILA_Q2",
                  "\"I'm a government minister who had to resign after a judge made negative comments about my testimony in a bribery case. Even though I was just a witness, the judge questioned my credibility. Can I challenge these remarks that damaged my reputation?\"",
                  "\"If a judge makes damaging comments about your character when you're just a witness in a court case, what can you do about it? These comments forced me to resign from my position.\"",
                  null,
                  null
                ],
                [
                  "2",
                  "AILA_Q3",
                  "\"I'm being prosecuted for selling contaminated food products in my store. The lab report shows illegal additives, but I think there might be a mistake. Can I challenge this in court?\"",
                  "\"My brother's store was accused of selling adulterated food products. He was initially found not guilty but then got sentenced on appeal. Is this legal?\"",
                  null,
                  null
                ],
                [
                  "3",
                  "AILA_Q4",
                  "\"My wife filed domestic violence charges against me and my family in India, claiming we demanded more dowry money after marriage and harassed her. The court dismissed charges against my family but not against me. Can I get the case against me dismissed too?\"",
                  "\"What can someone do if they're accused of dowry harassment in India? My family was cleared of charges but I'm still being prosecuted.\"",
                  null,
                  null
                ],
                [
                  "4",
                  "AILA_Q5",
                  "\"My family was attacked while working on our shared farmland when our neighbors claimed we didn't have the right to harvest there. One of my sons was seriously injured and needed brain surgery. The attackers were convicted but are now appealing. What kind of legal rights do we have in this situation?\"",
                  "\"If someone attacks you on disputed farmland and seriously injures your family member, what kind of criminal charges and punishment can they face?\"",
                  null,
                  null
                ],
                [
                  "5",
                  "AILA_Q6",
                  "\"What happens if someone gets shot while trying to arrest a criminal? My cousin is a police officer and was injured attempting to make an arrest - do police families have any special legal rights in these situations?\"",
                  "\"If a police officer dies while trying to arrest someone, what kind of legal case is it? My brother was a cop who was killed in the line of duty and I want to understand the legal process.\"",
                  null,
                  null
                ],
                [
                  "6",
                  "AILA_Q7",
                  "\"My dad was a government accountant who was convicted of stealing around 4,000 rupees and falsifying records. He got a one-year jail sentence but the court reduced his fine. Can he appeal this?\"",
                  "\"What happens if a government employee is caught stealing money and changing official records to cover it up? What kind of punishment do they usually get?\"",
                  null,
                  null
                ],
                [
                  "7",
                  "AILA_Q8",
                  "\"My sister-in-law died by suicide after being harassed for dowry by her husband and mother-in-law. They were convicted but are now appealing. What typically happens in dowry-related death cases like this?\"",
                  "\"If someone's wife commits suicide after being harassed for money and gifts from her family, can the husband and in-laws be held responsible for her death?\"",
                  null,
                  null
                ],
                [
                  "8",
                  "AILA_Q9",
                  "\"My brother killed my son during a family fight over farmland, but the court let him and his accomplices go free because of problems with the police investigation. Can I appeal this decision?\"",
                  "\"If a murder case gets dismissed because the police messed up the investigation, what options does the victim's family have to appeal?\"",
                  null,
                  null
                ],
                [
                  "9",
                  "AILA_Q10",
                  "\"If five people are charged with the same crime, why was only one person's appeal accepted while the others were rejected? Is this fair?\"",
                  "\"My friends and I were all convicted of the same crime, but when we appealed, the court only agreed to hear one person's case and rejected the rest of us. Can they do that?\"",
                  null,
                  null
                ],
                [
                  "10",
                  "AILA_Q11",
                  "\"I'm a French airline employee who was detained at the airport for not declaring watch parts in my luggage. They're keeping me in custody saying I might smuggle again. Can they hold me just based on one incident, especially since I'm having mental health issues from being detained?\"",
                  "\"My friend was caught bringing undeclared watches through customs. They're holding him in detention even though it's his first offense and he's becoming mentally unwell. Is this legal?\"",
                  null,
                  null
                ],
                [
                  "11",
                  "AILA_Q12",
                  "\"Can someone be detained by the police just because they think they might cause public disorder in the future? My brother was arrested because of a previous incident, even though he was already out on bail for it.\"",
                  "\"My relative was arrested and held in jail because the police said he might be a threat to public safety - is this legal, even though he was already out on bail for the original case?\"",
                  null,
                  null
                ],
                [
                  "12",
                  "AILA_Q13",
                  "\"I was fired from my job as a police officer because they found out about my old theft conviction. They claimed it was a routine termination, but later admitted the real reason in writing. Can they fire me this way, and do I have any right to get my job back?\"",
                  "\"Can the police department fire someone by claiming it's a regular termination, but actually doing it because of an old criminal record?\"",
                  null,
                  null
                ],
                [
                  "13",
                  "AILA_Q14",
                  "\"My father was murdered, and I got revenge by killing his murderer. I was convicted but then the high court acquitted me. Now the prosecution is appealing that decision - what usually happens in cases like this?\"",
                  "\"If someone takes revenge by killing their father's murderer, can they claim it was justified? My friend is facing charges for a similar situation.\"",
                  null,
                  null
                ],
                [
                  "14",
                  "AILA_Q15",
                  "\"My mother witnessed my father's murder and was injured trying to save him. She testified in court, but the attackers were found not guilty. Now a higher court reversed that decision - is this common in murder cases?\"",
                  "\"If someone sees their spouse get murdered and testifies in court, why would a judge ignore their testimony?\"",
                  null,
                  null
                ],
                [
                  "15",
                  "AILA_Q16",
                  "\"What happens if someone kills their stepmother and stepsister during a family property dispute? My relative was sentenced to death but it got changed to life in prison - can they appeal this?\"",
                  "\"My brother killed our stepmother and stepsister during a fight about family property. He got life in prison instead of the death penalty - what are his chances of appealing this sentence?\"",
                  null,
                  null
                ],
                [
                  "16",
                  "AILA_Q17",
                  "\"I was arrested for customs fraud last year and spent some time in jail, but I was released on bail. Now, 7 months later, they're suddenly trying to detain me again even though I haven't done anything wrong since then. Is this legal?\"",
                  "\"Can the authorities detain someone for an old customs violation if they've been following the law since getting out on bail?\"",
                  null,
                  null
                ],
                [
                  "17",
                  "AILA_Q18",
                  "\"My family's business partnership broke up and we had arbitrators divide up the assets. Some family members are saying the arbitrators' decision isn't valid because it wasn't officially registered. Does this kind of agreement really need to be registered to be legal?\"",
                  "\"If a family business partnership splits up and arbitrators help divide everything, do we need to get their decision officially registered somewhere for it to be valid?\"",
                  null,
                  null
                ],
                [
                  "18",
                  "AILA_Q19",
                  "\"My father was acquitted of murder by the trial court because the witnesses had conflicting stories, but then the high court overturned it and sentenced him to life in prison. How can they convict him when the original court found the evidence wasn't reliable?\"",
                  "\"How can a higher court overturn a 'not guilty' verdict when the original trial found the witnesses weren't trustworthy?\"",
                  null,
                  null
                ],
                [
                  "19",
                  "AILA_Q20",
                  "\"Someone broke into my parents' house at night and attacked both my mom and dad with a knife. My dad died but my mom survived. The attacker was caught and convicted, but now he's appealing his sentence. Is this normal?\"",
                  "\"My neighbor was convicted of breaking into a house and killing someone, plus attempting to kill their spouse. He got life in prison but is trying to appeal. What does this mean for the victims' family?\"",
                  "\"If someone is convicted of murder and attempted murder based mainly on witness testimony from family members, can they successfully appeal their conviction?\"",
                  "\"If someone is found guilty of murder based on witness statements from the victim's family, how likely is it their appeal will succeed?\""
                ],
                [
                  "20",
                  "AILA_Q21",
                  "\"I've been working as a temporary daily worker for over 10 years, and I want to become a permanent employee. The company offered me a different permanent position but I declined because it wasn't the role I've been doing. Now they've terminated me - what are my rights?\"",
                  "\"Can a company fire someone who's been working as a temp for 10+ years after they refuse to accept a permanent position in a different role?\"",
                  null,
                  null
                ],
                [
                  "21",
                  "AILA_Q22",
                  "\"My sister committed suicide and her husband claims it was due to stress over her kids' health, but we believe it was because of dowry harassment from him and his mother. They kept demanding money from our family and mistreated her. What legal options do we have?\"",
                  "\"If someone's wife commits suicide and there's evidence of dowry harassment, what kind of legal consequences can the husband and in-laws face?\"",
                  null,
                  null
                ],
                [
                  "22",
                  "AILA_Q23",
                  "\"Our construction company got initial approval to build apartments back in 1984, but we had delays getting the bank guarantee they required. They cancelled our permit, but the Governor later said we could get it back if we paid interest. Now the new government won't honor that agreement. Can we still get our building permit back?\"",
                  "\"If a developer gets preliminary approval for a construction project but misses some deadlines, can they still revive the permit years later if they're willing to meet all the original conditions plus interest?\"",
                  null,
                  null
                ],
                [
                  "23",
                  "AILA_Q24",
                  "\"My cousins and I jointly own some farmland with a shared water well. They started removing the pipes from the well without discussing it with anyone, and when we tried to stop them, they attacked us and someone got killed. What legal rights do we have in this situation?\"",
                  "\"There's a well on some land I co-own with my relatives. They tried to remove the pipes without permission and got violent when we asked them to stop. Can they legally do this?\"",
                  null,
                  null
                ],
                [
                  "24",
                  "AILA_Q25",
                  "\"The government took our farmland for some project and only offered us Rs 1.55 per square meter, but similar land nearby got Rs 10 per square meter. Can we challenge this and get fair compensation?\"",
                  "\"My family's agricultural land was acquired by the government, but they're paying us much less than what our neighbors got for their land. What are our rights?\"",
                  null,
                  null
                ],
                [
                  "25",
                  "AILA_Q26",
                  "\"I let someone stay in my house while they were helping me with construction, but now they won't leave or give it back to me. They claim they have rights to the property because of some agreements we signed. What can I do?\"",
                  "\"My neighbor helped me build my house and loaned me money, but now they've taken over the property and won't leave. Can they legally do this?\"",
                  null,
                  null
                ],
                [
                  "26",
                  "AILA_Q27",
                  "\"My friend was arrested for export fraud - he's accused of lying about the value and type of steel he was exporting to get higher government incentives. He's out of custody now but there's still a case against him. What kind of legal trouble could he be facing?\"",
                  "\"I run an export business and I'm being investigated for misrepresenting my products to get better export benefits. What should I do?\"",
                  null,
                  null
                ],
                [
                  "27",
                  "AILA_Q28",
                  "\"My brother was killed in a fight over farmland, and the people who did it were convicted. They're now appealing their conviction. How likely is it that their appeal will succeed if there were eyewitnesses to the crime?\"",
                  "\"If someone was convicted of murder based on eyewitness testimony that wasn't collected until a week after the incident, can they successfully appeal their conviction?\"",
                  null,
                  null
                ],
                [
                  "28",
                  "AILA_Q29",
                  "\"My cousin was accused of poisoning his wife and was found not guilty, but then a higher court reversed the decision and convicted him. How can a person be found guilty after being declared innocent?\"",
                  "\"If someone is found not guilty of a crime but then a higher court changes the verdict to guilty, is that legal? Can they appeal?\"",
                  null,
                  null
                ],
                [
                  "29",
                  "AILA_Q30",
                  "\"My sister was killed by her in-laws who burned her alive, and they were found guilty in the initial trial. But now they've been acquitted by the High Court. Can we appeal this decision or get justice some other way?\"",
                  "\"If someone is murdered and the killers are convicted but then later acquitted by a higher court, what options does the victim's family have?\"",
                  null,
                  null
                ],
                [
                  "30",
                  "AILA_Q31",
                  "\"My family bought some land, but we found out another group of people claim they bought the same property from the same owner. They're trying to build shops on it now. Who legally owns the land in this kind of situation?\"",
                  "\"There's a dispute over who owns a piece of land - one group bought it with a power of attorney, and another group bought it directly from the owner. How do courts decide who the real owner is?\"",
                  null,
                  null
                ],
                [
                  "31",
                  "AILA_Q32",
                  "\"My cousin was beaten up and killed over a water dispute during a family wedding. The attackers were sentenced to life in prison, but they're now appealing. What usually happens in these kinds of appeals cases?\"",
                  "\"If someone is convicted of murder over a village water dispute and gets life in prison, what are their chances of winning an appeal?\"",
                  null,
                  null
                ],
                [
                  "32",
                  "AILA_Q33",
                  "\"I'm a police officer who was found with a large amount of money at home. They say it's more than I could have earned from my salary, but they couldn't prove I stole anything from evidence storage. Can they still punish me just for having the money?\"",
                  "\"My cousin is a cop and they found unexplained money in his house. They couldn't prove he stole anything from work, but they're still treating him like he's guilty. Is that legal?\"",
                  null,
                  null
                ],
                [
                  "33",
                  "AILA_Q34",
                  "\"Is it legal for government officials to interfere with ongoing corruption investigations? My state's former Chief Minister is being investigated for corruption, but it seems like people in power are trying to slow down or stop the investigation by replacing prosecutors and judges.\"",
                  "\"What can citizens do if they suspect high-ranking politicians are manipulating the legal system to avoid corruption charges? There's clear evidence but the case keeps getting delayed.\"",
                  null,
                  null
                ],
                [
                  "34",
                  "AILA_Q35",
                  "\"If a fight starts over a petty dispute and someone dies, can the person claim it wasn't planned murder since it began as a small argument? My cousin got into a fight that started over borrowed items and things escalated badly.\"",
                  "\"My brother got into a street fight that started over a silly neighborhood dispute, and someone died. He says he didn't mean to kill anyone - does it matter legally that this wasn't planned and started as a small argument?\"",
                  null,
                  null
                ],
                [
                  "35",
                  "AILA_Q36",
                  "\"Can the government limit how much they reimburse for medical expenses if I had to get treatment at a different hospital than the one they approved?\"",
                  "\"My son was a government employee who needed emergency kidney treatment, but the approved hospital couldn't take him. The state only wants to pay part of the bills from the other hospital - is this legal?\"",
                  "\"How much of my medical bills does the government have to cover if I'm a state employee and had to get emergency surgery at a non-approved hospital?\"",
                  null
                ],
                [
                  "36",
                  "AILA_Q37",
                  "\"My father was attacked by two men in our village - one hit him with a stick and the other with some kind of farming tool. He later died from his injuries. The men were convicted but are now appealing, saying they're innocent because the only witnesses were family members. Is it true that family testimony isn't reliable in court?\"",
                  "\"If someone is convicted of a violent crime but the only witnesses were the victim's relatives, can they get their conviction overturned? My cousin's attackers are claiming the family testimony shouldn't count.\"",
                  null,
                  null
                ],
                [
                  "37",
                  "AILA_Q38",
                  "\"I run a fertilizer business and government testing says our product is low quality, but we weren't allowed to provide our own test results to defend ourselves. Is it legal for them to only use their lab results against us?\"",
                  "\"My company is being accused of selling bad fertilizer based on government lab tests. Don't we have the right to challenge these test results with our own evidence?\"",
                  null,
                  null
                ],
                [
                  "38",
                  "AILA_Q39",
                  "\"A foreign student was accused of murdering his classmate and stealing her belongings, but was later found not guilty by the High Court. Can the prosecution appeal this decision and try to convict him again?\"",
                  "\"My cousin was convicted of murder based on circumstantial evidence, but the High Court later acquitted him. Now the police want to challenge his acquittal - can they do that?\"",
                  null,
                  null
                ],
                [
                  "39",
                  "AILA_Q40",
                  "\"I'm a government legal officer with no chance for promotion in my department. Can I force my employer to create higher positions or pay grades for my role?\"",
                  "\"What can I do if I'm stuck in a dead-end government job with no promotion path? My position is the only one of its kind in my department.\"",
                  null,
                  null
                ],
                [
                  "40",
                  "AILA_Q41",
                  "\"My uncle was killed after confronting someone who was harassing female workers at his factory. The attacker was convicted, but now he's appealing his life sentence. Can murderers successfully appeal just because some witnesses were family members of the victim?\"",
                  "\"If someone is convicted of murder based partly on testimony from the victim's relatives, can they get their conviction overturned just because the witnesses were family members?\"",
                  null,
                  null
                ],
                [
                  "41",
                  "AILA_Q42",
                  "\"My parents agreed to sell their property but the deal fell through. Now the buyer filed a police complaint saying we cheated them, and I'm being charged too even though I wasn't involved in the sale. Can I get these charges dropped?\"",
                  "\"Someone is pressing criminal charges against me because my parents didn't complete a property sale with them. I wasn't even part of the deal - what can I do?\"",
                  null,
                  null
                ],
                [
                  "42",
                  "AILA_Q43",
                  "\"I'm a Navy wife who filed domestic abuse charges against my husband and several other Navy officers. Now I need to move my case to a different state court because I don't feel safe pursuing the case where my husband is stationed. Is this possible?\"",
                  "\"Can I transfer my domestic violence case to a different state? I filed charges against my husband (a Navy officer) but don't feel safe pursuing the case in his city since I have no family there to support me.\"",
                  null,
                  null
                ],
                [
                  "43",
                  "AILA_Q44",
                  "\"I'm a government transport officer being investigated for having more assets than my salary could explain, but they wrongly included my family members' property in the calculation. What can I do to prove these assets don't belong to me?\"",
                  "\"My brother works for the government and is being accused of corruption because they counted our whole family's property as his. How can he prove these aren't his assets?\"",
                  null,
                  null
                ],
                [
                  "44",
                  "AILA_Q45",
                  "\"My neighbor was killed in a fight over a property boundary dispute, but the people accused of the murder were found not guilty by the first court. Now a higher court says they're guilty after all. How can two courts reach completely opposite decisions in a murder case?\"",
                  "\"If someone is found not guilty of a crime but then a higher court reverses that decision and finds them guilty, is that legal? This happened in my village in a murder case.\"",
                  null,
                  null
                ],
                [
                  "45",
                  "AILA_Q46",
                  "\"My father was robbed at gunpoint in our home, and during the robbery my sister was shot and killed. We identified some of the robbers, but one of them was found not guilty in court. Can that person still be held responsible for my sister's death even though they were acquitted?\"",
                  "\"If someone is part of a gang that commits a home invasion and someone dies during the robbery, but they're found not guilty, can they still be held responsible in any way?\"",
                  null,
                  null
                ],
                [
                  "46",
                  "AILA_Q47",
                  "\"My brother killed our father in a fight over land and claims it was self-defense because he grabbed the weapon from our dad during the argument. What kind of legal consequences would he face?\"",
                  "\"If someone kills a family member during a property dispute but claims they only fought back after the victim attacked them first, can they still be charged with murder?\"",
                  null,
                  null
                ],
                [
                  "47",
                  "AILA_Q48",
                  "\"Can government employees be prosecuted for fraud without getting special permission from their department first? Some officials at my local registry office are being investigated for taking bribes and faking property documents.\"",
                  "\"My friend works at the government registry office and is being investigated for fraud. Does the police need special permission before they can charge government employees with crimes?\"",
                  null,
                  null
                ],
                [
                  "48",
                  "AILA_Q49",
                  "\"I was a government worker who got fired in 1987 for allegedly taking bribes. I was later found innocent in 2001, but I had already retired by then. Can I still get my pension and benefits?\"",
                  "\"If someone is fired from their government job for corruption but later proven innocent, are they entitled to their pension even if they've already reached retirement age?\"",
                  null,
                  null
                ],
                [
                  "49",
                  "AILA_Q50",
                  "\"I'm a government minister who resigned after a judge made harsh comments about my testimony in a bribery case. Even though I was just a witness, the judge's remarks damaged my reputation. Can I appeal to have these comments removed from the court record?\"",
                  "\"If a judge makes damaging personal remarks about a witness in their court decision, can those remarks be challenged or removed from the official record?\"",
                  null,
                  null
                ]
              ],
              "shape": {
                "columns": 5,
                "rows": 50
              }
            },
            "text/html": [
              "<div>\n",
              "<style scoped>\n",
              "    .dataframe tbody tr th:only-of-type {\n",
              "        vertical-align: middle;\n",
              "    }\n",
              "\n",
              "    .dataframe tbody tr th {\n",
              "        vertical-align: top;\n",
              "    }\n",
              "\n",
              "    .dataframe thead th {\n",
              "        text-align: right;\n",
              "    }\n",
              "</style>\n",
              "<table border=\"1\" class=\"dataframe\">\n",
              "  <thead>\n",
              "    <tr style=\"text-align: right;\">\n",
              "      <th></th>\n",
              "      <th>Query_ID</th>\n",
              "      <th>1</th>\n",
              "      <th>2</th>\n",
              "      <th>3</th>\n",
              "      <th>4</th>\n",
              "    </tr>\n",
              "  </thead>\n",
              "  <tbody>\n",
              "    <tr>\n",
              "      <th>0</th>\n",
              "      <td>AILA_Q1</td>\n",
              "      <td>\"I was fired from my bank job because I was ac...</td>\n",
              "      <td>\"Can a company refuse to rehire someone after ...</td>\n",
              "      <td>NaN</td>\n",
              "      <td>NaN</td>\n",
              "    </tr>\n",
              "    <tr>\n",
              "      <th>1</th>\n",
              "      <td>AILA_Q2</td>\n",
              "      <td>\"I'm a government minister who had to resign a...</td>\n",
              "      <td>\"If a judge makes damaging comments about your...</td>\n",
              "      <td>NaN</td>\n",
              "      <td>NaN</td>\n",
              "    </tr>\n",
              "    <tr>\n",
              "      <th>2</th>\n",
              "      <td>AILA_Q3</td>\n",
              "      <td>\"I'm being prosecuted for selling contaminated...</td>\n",
              "      <td>\"My brother's store was accused of selling adu...</td>\n",
              "      <td>NaN</td>\n",
              "      <td>NaN</td>\n",
              "    </tr>\n",
              "    <tr>\n",
              "      <th>3</th>\n",
              "      <td>AILA_Q4</td>\n",
              "      <td>\"My wife filed domestic violence charges again...</td>\n",
              "      <td>\"What can someone do if they're accused of dow...</td>\n",
              "      <td>NaN</td>\n",
              "      <td>NaN</td>\n",
              "    </tr>\n",
              "    <tr>\n",
              "      <th>4</th>\n",
              "      <td>AILA_Q5</td>\n",
              "      <td>\"My family was attacked while working on our s...</td>\n",
              "      <td>\"If someone attacks you on disputed farmland a...</td>\n",
              "      <td>NaN</td>\n",
              "      <td>NaN</td>\n",
              "    </tr>\n",
              "    <tr>\n",
              "      <th>5</th>\n",
              "      <td>AILA_Q6</td>\n",
              "      <td>\"What happens if someone gets shot while tryin...</td>\n",
              "      <td>\"If a police officer dies while trying to arre...</td>\n",
              "      <td>NaN</td>\n",
              "      <td>NaN</td>\n",
              "    </tr>\n",
              "    <tr>\n",
              "      <th>6</th>\n",
              "      <td>AILA_Q7</td>\n",
              "      <td>\"My dad was a government accountant who was co...</td>\n",
              "      <td>\"What happens if a government employee is caug...</td>\n",
              "      <td>NaN</td>\n",
              "      <td>NaN</td>\n",
              "    </tr>\n",
              "    <tr>\n",
              "      <th>7</th>\n",
              "      <td>AILA_Q8</td>\n",
              "      <td>\"My sister-in-law died by suicide after being ...</td>\n",
              "      <td>\"If someone's wife commits suicide after being...</td>\n",
              "      <td>NaN</td>\n",
              "      <td>NaN</td>\n",
              "    </tr>\n",
              "    <tr>\n",
              "      <th>8</th>\n",
              "      <td>AILA_Q9</td>\n",
              "      <td>\"My brother killed my son during a family figh...</td>\n",
              "      <td>\"If a murder case gets dismissed because the p...</td>\n",
              "      <td>NaN</td>\n",
              "      <td>NaN</td>\n",
              "    </tr>\n",
              "    <tr>\n",
              "      <th>9</th>\n",
              "      <td>AILA_Q10</td>\n",
              "      <td>\"If five people are charged with the same crim...</td>\n",
              "      <td>\"My friends and I were all convicted of the sa...</td>\n",
              "      <td>NaN</td>\n",
              "      <td>NaN</td>\n",
              "    </tr>\n",
              "    <tr>\n",
              "      <th>10</th>\n",
              "      <td>AILA_Q11</td>\n",
              "      <td>\"I'm a French airline employee who was detaine...</td>\n",
              "      <td>\"My friend was caught bringing undeclared watc...</td>\n",
              "      <td>NaN</td>\n",
              "      <td>NaN</td>\n",
              "    </tr>\n",
              "    <tr>\n",
              "      <th>11</th>\n",
              "      <td>AILA_Q12</td>\n",
              "      <td>\"Can someone be detained by the police just be...</td>\n",
              "      <td>\"My relative was arrested and held in jail bec...</td>\n",
              "      <td>NaN</td>\n",
              "      <td>NaN</td>\n",
              "    </tr>\n",
              "    <tr>\n",
              "      <th>12</th>\n",
              "      <td>AILA_Q13</td>\n",
              "      <td>\"I was fired from my job as a police officer b...</td>\n",
              "      <td>\"Can the police department fire someone by cla...</td>\n",
              "      <td>NaN</td>\n",
              "      <td>NaN</td>\n",
              "    </tr>\n",
              "    <tr>\n",
              "      <th>13</th>\n",
              "      <td>AILA_Q14</td>\n",
              "      <td>\"My father was murdered, and I got revenge by ...</td>\n",
              "      <td>\"If someone takes revenge by killing their fat...</td>\n",
              "      <td>NaN</td>\n",
              "      <td>NaN</td>\n",
              "    </tr>\n",
              "    <tr>\n",
              "      <th>14</th>\n",
              "      <td>AILA_Q15</td>\n",
              "      <td>\"My mother witnessed my father's murder and wa...</td>\n",
              "      <td>\"If someone sees their spouse get murdered and...</td>\n",
              "      <td>NaN</td>\n",
              "      <td>NaN</td>\n",
              "    </tr>\n",
              "    <tr>\n",
              "      <th>15</th>\n",
              "      <td>AILA_Q16</td>\n",
              "      <td>\"What happens if someone kills their stepmothe...</td>\n",
              "      <td>\"My brother killed our stepmother and stepsist...</td>\n",
              "      <td>NaN</td>\n",
              "      <td>NaN</td>\n",
              "    </tr>\n",
              "    <tr>\n",
              "      <th>16</th>\n",
              "      <td>AILA_Q17</td>\n",
              "      <td>\"I was arrested for customs fraud last year an...</td>\n",
              "      <td>\"Can the authorities detain someone for an old...</td>\n",
              "      <td>NaN</td>\n",
              "      <td>NaN</td>\n",
              "    </tr>\n",
              "    <tr>\n",
              "      <th>17</th>\n",
              "      <td>AILA_Q18</td>\n",
              "      <td>\"My family's business partnership broke up and...</td>\n",
              "      <td>\"If a family business partnership splits up an...</td>\n",
              "      <td>NaN</td>\n",
              "      <td>NaN</td>\n",
              "    </tr>\n",
              "    <tr>\n",
              "      <th>18</th>\n",
              "      <td>AILA_Q19</td>\n",
              "      <td>\"My father was acquitted of murder by the tria...</td>\n",
              "      <td>\"How can a higher court overturn a 'not guilty...</td>\n",
              "      <td>NaN</td>\n",
              "      <td>NaN</td>\n",
              "    </tr>\n",
              "    <tr>\n",
              "      <th>19</th>\n",
              "      <td>AILA_Q20</td>\n",
              "      <td>\"Someone broke into my parents' house at night...</td>\n",
              "      <td>\"My neighbor was convicted of breaking into a ...</td>\n",
              "      <td>\"If someone is convicted of murder and attempt...</td>\n",
              "      <td>\"If someone is found guilty of murder based on...</td>\n",
              "    </tr>\n",
              "    <tr>\n",
              "      <th>20</th>\n",
              "      <td>AILA_Q21</td>\n",
              "      <td>\"I've been working as a temporary daily worker...</td>\n",
              "      <td>\"Can a company fire someone who's been working...</td>\n",
              "      <td>NaN</td>\n",
              "      <td>NaN</td>\n",
              "    </tr>\n",
              "    <tr>\n",
              "      <th>21</th>\n",
              "      <td>AILA_Q22</td>\n",
              "      <td>\"My sister committed suicide and her husband c...</td>\n",
              "      <td>\"If someone's wife commits suicide and there's...</td>\n",
              "      <td>NaN</td>\n",
              "      <td>NaN</td>\n",
              "    </tr>\n",
              "    <tr>\n",
              "      <th>22</th>\n",
              "      <td>AILA_Q23</td>\n",
              "      <td>\"Our construction company got initial approval...</td>\n",
              "      <td>\"If a developer gets preliminary approval for ...</td>\n",
              "      <td>NaN</td>\n",
              "      <td>NaN</td>\n",
              "    </tr>\n",
              "    <tr>\n",
              "      <th>23</th>\n",
              "      <td>AILA_Q24</td>\n",
              "      <td>\"My cousins and I jointly own some farmland wi...</td>\n",
              "      <td>\"There's a well on some land I co-own with my ...</td>\n",
              "      <td>NaN</td>\n",
              "      <td>NaN</td>\n",
              "    </tr>\n",
              "    <tr>\n",
              "      <th>24</th>\n",
              "      <td>AILA_Q25</td>\n",
              "      <td>\"The government took our farmland for some pro...</td>\n",
              "      <td>\"My family's agricultural land was acquired by...</td>\n",
              "      <td>NaN</td>\n",
              "      <td>NaN</td>\n",
              "    </tr>\n",
              "    <tr>\n",
              "      <th>25</th>\n",
              "      <td>AILA_Q26</td>\n",
              "      <td>\"I let someone stay in my house while they wer...</td>\n",
              "      <td>\"My neighbor helped me build my house and loan...</td>\n",
              "      <td>NaN</td>\n",
              "      <td>NaN</td>\n",
              "    </tr>\n",
              "    <tr>\n",
              "      <th>26</th>\n",
              "      <td>AILA_Q27</td>\n",
              "      <td>\"My friend was arrested for export fraud - he'...</td>\n",
              "      <td>\"I run an export business and I'm being invest...</td>\n",
              "      <td>NaN</td>\n",
              "      <td>NaN</td>\n",
              "    </tr>\n",
              "    <tr>\n",
              "      <th>27</th>\n",
              "      <td>AILA_Q28</td>\n",
              "      <td>\"My brother was killed in a fight over farmlan...</td>\n",
              "      <td>\"If someone was convicted of murder based on e...</td>\n",
              "      <td>NaN</td>\n",
              "      <td>NaN</td>\n",
              "    </tr>\n",
              "    <tr>\n",
              "      <th>28</th>\n",
              "      <td>AILA_Q29</td>\n",
              "      <td>\"My cousin was accused of poisoning his wife a...</td>\n",
              "      <td>\"If someone is found not guilty of a crime but...</td>\n",
              "      <td>NaN</td>\n",
              "      <td>NaN</td>\n",
              "    </tr>\n",
              "    <tr>\n",
              "      <th>29</th>\n",
              "      <td>AILA_Q30</td>\n",
              "      <td>\"My sister was killed by her in-laws who burne...</td>\n",
              "      <td>\"If someone is murdered and the killers are co...</td>\n",
              "      <td>NaN</td>\n",
              "      <td>NaN</td>\n",
              "    </tr>\n",
              "    <tr>\n",
              "      <th>30</th>\n",
              "      <td>AILA_Q31</td>\n",
              "      <td>\"My family bought some land, but we found out ...</td>\n",
              "      <td>\"There's a dispute over who owns a piece of la...</td>\n",
              "      <td>NaN</td>\n",
              "      <td>NaN</td>\n",
              "    </tr>\n",
              "    <tr>\n",
              "      <th>31</th>\n",
              "      <td>AILA_Q32</td>\n",
              "      <td>\"My cousin was beaten up and killed over a wat...</td>\n",
              "      <td>\"If someone is convicted of murder over a vill...</td>\n",
              "      <td>NaN</td>\n",
              "      <td>NaN</td>\n",
              "    </tr>\n",
              "    <tr>\n",
              "      <th>32</th>\n",
              "      <td>AILA_Q33</td>\n",
              "      <td>\"I'm a police officer who was found with a lar...</td>\n",
              "      <td>\"My cousin is a cop and they found unexplained...</td>\n",
              "      <td>NaN</td>\n",
              "      <td>NaN</td>\n",
              "    </tr>\n",
              "    <tr>\n",
              "      <th>33</th>\n",
              "      <td>AILA_Q34</td>\n",
              "      <td>\"Is it legal for government officials to inter...</td>\n",
              "      <td>\"What can citizens do if they suspect high-ran...</td>\n",
              "      <td>NaN</td>\n",
              "      <td>NaN</td>\n",
              "    </tr>\n",
              "    <tr>\n",
              "      <th>34</th>\n",
              "      <td>AILA_Q35</td>\n",
              "      <td>\"If a fight starts over a petty dispute and so...</td>\n",
              "      <td>\"My brother got into a street fight that start...</td>\n",
              "      <td>NaN</td>\n",
              "      <td>NaN</td>\n",
              "    </tr>\n",
              "    <tr>\n",
              "      <th>35</th>\n",
              "      <td>AILA_Q36</td>\n",
              "      <td>\"Can the government limit how much they reimbu...</td>\n",
              "      <td>\"My son was a government employee who needed e...</td>\n",
              "      <td>\"How much of my medical bills does the governm...</td>\n",
              "      <td>NaN</td>\n",
              "    </tr>\n",
              "    <tr>\n",
              "      <th>36</th>\n",
              "      <td>AILA_Q37</td>\n",
              "      <td>\"My father was attacked by two men in our vill...</td>\n",
              "      <td>\"If someone is convicted of a violent crime bu...</td>\n",
              "      <td>NaN</td>\n",
              "      <td>NaN</td>\n",
              "    </tr>\n",
              "    <tr>\n",
              "      <th>37</th>\n",
              "      <td>AILA_Q38</td>\n",
              "      <td>\"I run a fertilizer business and government te...</td>\n",
              "      <td>\"My company is being accused of selling bad fe...</td>\n",
              "      <td>NaN</td>\n",
              "      <td>NaN</td>\n",
              "    </tr>\n",
              "    <tr>\n",
              "      <th>38</th>\n",
              "      <td>AILA_Q39</td>\n",
              "      <td>\"A foreign student was accused of murdering hi...</td>\n",
              "      <td>\"My cousin was convicted of murder based on ci...</td>\n",
              "      <td>NaN</td>\n",
              "      <td>NaN</td>\n",
              "    </tr>\n",
              "    <tr>\n",
              "      <th>39</th>\n",
              "      <td>AILA_Q40</td>\n",
              "      <td>\"I'm a government legal officer with no chance...</td>\n",
              "      <td>\"What can I do if I'm stuck in a dead-end gove...</td>\n",
              "      <td>NaN</td>\n",
              "      <td>NaN</td>\n",
              "    </tr>\n",
              "    <tr>\n",
              "      <th>40</th>\n",
              "      <td>AILA_Q41</td>\n",
              "      <td>\"My uncle was killed after confronting someone...</td>\n",
              "      <td>\"If someone is convicted of murder based partl...</td>\n",
              "      <td>NaN</td>\n",
              "      <td>NaN</td>\n",
              "    </tr>\n",
              "    <tr>\n",
              "      <th>41</th>\n",
              "      <td>AILA_Q42</td>\n",
              "      <td>\"My parents agreed to sell their property but ...</td>\n",
              "      <td>\"Someone is pressing criminal charges against ...</td>\n",
              "      <td>NaN</td>\n",
              "      <td>NaN</td>\n",
              "    </tr>\n",
              "    <tr>\n",
              "      <th>42</th>\n",
              "      <td>AILA_Q43</td>\n",
              "      <td>\"I'm a Navy wife who filed domestic abuse char...</td>\n",
              "      <td>\"Can I transfer my domestic violence case to a...</td>\n",
              "      <td>NaN</td>\n",
              "      <td>NaN</td>\n",
              "    </tr>\n",
              "    <tr>\n",
              "      <th>43</th>\n",
              "      <td>AILA_Q44</td>\n",
              "      <td>\"I'm a government transport officer being inve...</td>\n",
              "      <td>\"My brother works for the government and is be...</td>\n",
              "      <td>NaN</td>\n",
              "      <td>NaN</td>\n",
              "    </tr>\n",
              "    <tr>\n",
              "      <th>44</th>\n",
              "      <td>AILA_Q45</td>\n",
              "      <td>\"My neighbor was killed in a fight over a prop...</td>\n",
              "      <td>\"If someone is found not guilty of a crime but...</td>\n",
              "      <td>NaN</td>\n",
              "      <td>NaN</td>\n",
              "    </tr>\n",
              "    <tr>\n",
              "      <th>45</th>\n",
              "      <td>AILA_Q46</td>\n",
              "      <td>\"My father was robbed at gunpoint in our home,...</td>\n",
              "      <td>\"If someone is part of a gang that commits a h...</td>\n",
              "      <td>NaN</td>\n",
              "      <td>NaN</td>\n",
              "    </tr>\n",
              "    <tr>\n",
              "      <th>46</th>\n",
              "      <td>AILA_Q47</td>\n",
              "      <td>\"My brother killed our father in a fight over ...</td>\n",
              "      <td>\"If someone kills a family member during a pro...</td>\n",
              "      <td>NaN</td>\n",
              "      <td>NaN</td>\n",
              "    </tr>\n",
              "    <tr>\n",
              "      <th>47</th>\n",
              "      <td>AILA_Q48</td>\n",
              "      <td>\"Can government employees be prosecuted for fr...</td>\n",
              "      <td>\"My friend works at the government registry of...</td>\n",
              "      <td>NaN</td>\n",
              "      <td>NaN</td>\n",
              "    </tr>\n",
              "    <tr>\n",
              "      <th>48</th>\n",
              "      <td>AILA_Q49</td>\n",
              "      <td>\"I was a government worker who got fired in 19...</td>\n",
              "      <td>\"If someone is fired from their government job...</td>\n",
              "      <td>NaN</td>\n",
              "      <td>NaN</td>\n",
              "    </tr>\n",
              "    <tr>\n",
              "      <th>49</th>\n",
              "      <td>AILA_Q50</td>\n",
              "      <td>\"I'm a government minister who resigned after ...</td>\n",
              "      <td>\"If a judge makes damaging personal remarks ab...</td>\n",
              "      <td>NaN</td>\n",
              "      <td>NaN</td>\n",
              "    </tr>\n",
              "  </tbody>\n",
              "</table>\n",
              "</div>"
            ],
            "text/plain": [
              "    Query_ID                                                  1  \\\n",
              "0    AILA_Q1  \"I was fired from my bank job because I was ac...   \n",
              "1    AILA_Q2  \"I'm a government minister who had to resign a...   \n",
              "2    AILA_Q3  \"I'm being prosecuted for selling contaminated...   \n",
              "3    AILA_Q4  \"My wife filed domestic violence charges again...   \n",
              "4    AILA_Q5  \"My family was attacked while working on our s...   \n",
              "5    AILA_Q6  \"What happens if someone gets shot while tryin...   \n",
              "6    AILA_Q7  \"My dad was a government accountant who was co...   \n",
              "7    AILA_Q8  \"My sister-in-law died by suicide after being ...   \n",
              "8    AILA_Q9  \"My brother killed my son during a family figh...   \n",
              "9   AILA_Q10  \"If five people are charged with the same crim...   \n",
              "10  AILA_Q11  \"I'm a French airline employee who was detaine...   \n",
              "11  AILA_Q12  \"Can someone be detained by the police just be...   \n",
              "12  AILA_Q13  \"I was fired from my job as a police officer b...   \n",
              "13  AILA_Q14  \"My father was murdered, and I got revenge by ...   \n",
              "14  AILA_Q15  \"My mother witnessed my father's murder and wa...   \n",
              "15  AILA_Q16  \"What happens if someone kills their stepmothe...   \n",
              "16  AILA_Q17  \"I was arrested for customs fraud last year an...   \n",
              "17  AILA_Q18  \"My family's business partnership broke up and...   \n",
              "18  AILA_Q19  \"My father was acquitted of murder by the tria...   \n",
              "19  AILA_Q20  \"Someone broke into my parents' house at night...   \n",
              "20  AILA_Q21  \"I've been working as a temporary daily worker...   \n",
              "21  AILA_Q22  \"My sister committed suicide and her husband c...   \n",
              "22  AILA_Q23  \"Our construction company got initial approval...   \n",
              "23  AILA_Q24  \"My cousins and I jointly own some farmland wi...   \n",
              "24  AILA_Q25  \"The government took our farmland for some pro...   \n",
              "25  AILA_Q26  \"I let someone stay in my house while they wer...   \n",
              "26  AILA_Q27  \"My friend was arrested for export fraud - he'...   \n",
              "27  AILA_Q28  \"My brother was killed in a fight over farmlan...   \n",
              "28  AILA_Q29  \"My cousin was accused of poisoning his wife a...   \n",
              "29  AILA_Q30  \"My sister was killed by her in-laws who burne...   \n",
              "30  AILA_Q31  \"My family bought some land, but we found out ...   \n",
              "31  AILA_Q32  \"My cousin was beaten up and killed over a wat...   \n",
              "32  AILA_Q33  \"I'm a police officer who was found with a lar...   \n",
              "33  AILA_Q34  \"Is it legal for government officials to inter...   \n",
              "34  AILA_Q35  \"If a fight starts over a petty dispute and so...   \n",
              "35  AILA_Q36  \"Can the government limit how much they reimbu...   \n",
              "36  AILA_Q37  \"My father was attacked by two men in our vill...   \n",
              "37  AILA_Q38  \"I run a fertilizer business and government te...   \n",
              "38  AILA_Q39  \"A foreign student was accused of murdering hi...   \n",
              "39  AILA_Q40  \"I'm a government legal officer with no chance...   \n",
              "40  AILA_Q41  \"My uncle was killed after confronting someone...   \n",
              "41  AILA_Q42  \"My parents agreed to sell their property but ...   \n",
              "42  AILA_Q43  \"I'm a Navy wife who filed domestic abuse char...   \n",
              "43  AILA_Q44  \"I'm a government transport officer being inve...   \n",
              "44  AILA_Q45  \"My neighbor was killed in a fight over a prop...   \n",
              "45  AILA_Q46  \"My father was robbed at gunpoint in our home,...   \n",
              "46  AILA_Q47  \"My brother killed our father in a fight over ...   \n",
              "47  AILA_Q48  \"Can government employees be prosecuted for fr...   \n",
              "48  AILA_Q49  \"I was a government worker who got fired in 19...   \n",
              "49  AILA_Q50  \"I'm a government minister who resigned after ...   \n",
              "\n",
              "                                                    2  \\\n",
              "0   \"Can a company refuse to rehire someone after ...   \n",
              "1   \"If a judge makes damaging comments about your...   \n",
              "2   \"My brother's store was accused of selling adu...   \n",
              "3   \"What can someone do if they're accused of dow...   \n",
              "4   \"If someone attacks you on disputed farmland a...   \n",
              "5   \"If a police officer dies while trying to arre...   \n",
              "6   \"What happens if a government employee is caug...   \n",
              "7   \"If someone's wife commits suicide after being...   \n",
              "8   \"If a murder case gets dismissed because the p...   \n",
              "9   \"My friends and I were all convicted of the sa...   \n",
              "10  \"My friend was caught bringing undeclared watc...   \n",
              "11  \"My relative was arrested and held in jail bec...   \n",
              "12  \"Can the police department fire someone by cla...   \n",
              "13  \"If someone takes revenge by killing their fat...   \n",
              "14  \"If someone sees their spouse get murdered and...   \n",
              "15  \"My brother killed our stepmother and stepsist...   \n",
              "16  \"Can the authorities detain someone for an old...   \n",
              "17  \"If a family business partnership splits up an...   \n",
              "18  \"How can a higher court overturn a 'not guilty...   \n",
              "19  \"My neighbor was convicted of breaking into a ...   \n",
              "20  \"Can a company fire someone who's been working...   \n",
              "21  \"If someone's wife commits suicide and there's...   \n",
              "22  \"If a developer gets preliminary approval for ...   \n",
              "23  \"There's a well on some land I co-own with my ...   \n",
              "24  \"My family's agricultural land was acquired by...   \n",
              "25  \"My neighbor helped me build my house and loan...   \n",
              "26  \"I run an export business and I'm being invest...   \n",
              "27  \"If someone was convicted of murder based on e...   \n",
              "28  \"If someone is found not guilty of a crime but...   \n",
              "29  \"If someone is murdered and the killers are co...   \n",
              "30  \"There's a dispute over who owns a piece of la...   \n",
              "31  \"If someone is convicted of murder over a vill...   \n",
              "32  \"My cousin is a cop and they found unexplained...   \n",
              "33  \"What can citizens do if they suspect high-ran...   \n",
              "34  \"My brother got into a street fight that start...   \n",
              "35  \"My son was a government employee who needed e...   \n",
              "36  \"If someone is convicted of a violent crime bu...   \n",
              "37  \"My company is being accused of selling bad fe...   \n",
              "38  \"My cousin was convicted of murder based on ci...   \n",
              "39  \"What can I do if I'm stuck in a dead-end gove...   \n",
              "40  \"If someone is convicted of murder based partl...   \n",
              "41  \"Someone is pressing criminal charges against ...   \n",
              "42  \"Can I transfer my domestic violence case to a...   \n",
              "43  \"My brother works for the government and is be...   \n",
              "44  \"If someone is found not guilty of a crime but...   \n",
              "45  \"If someone is part of a gang that commits a h...   \n",
              "46  \"If someone kills a family member during a pro...   \n",
              "47  \"My friend works at the government registry of...   \n",
              "48  \"If someone is fired from their government job...   \n",
              "49  \"If a judge makes damaging personal remarks ab...   \n",
              "\n",
              "                                                    3  \\\n",
              "0                                                 NaN   \n",
              "1                                                 NaN   \n",
              "2                                                 NaN   \n",
              "3                                                 NaN   \n",
              "4                                                 NaN   \n",
              "5                                                 NaN   \n",
              "6                                                 NaN   \n",
              "7                                                 NaN   \n",
              "8                                                 NaN   \n",
              "9                                                 NaN   \n",
              "10                                                NaN   \n",
              "11                                                NaN   \n",
              "12                                                NaN   \n",
              "13                                                NaN   \n",
              "14                                                NaN   \n",
              "15                                                NaN   \n",
              "16                                                NaN   \n",
              "17                                                NaN   \n",
              "18                                                NaN   \n",
              "19  \"If someone is convicted of murder and attempt...   \n",
              "20                                                NaN   \n",
              "21                                                NaN   \n",
              "22                                                NaN   \n",
              "23                                                NaN   \n",
              "24                                                NaN   \n",
              "25                                                NaN   \n",
              "26                                                NaN   \n",
              "27                                                NaN   \n",
              "28                                                NaN   \n",
              "29                                                NaN   \n",
              "30                                                NaN   \n",
              "31                                                NaN   \n",
              "32                                                NaN   \n",
              "33                                                NaN   \n",
              "34                                                NaN   \n",
              "35  \"How much of my medical bills does the governm...   \n",
              "36                                                NaN   \n",
              "37                                                NaN   \n",
              "38                                                NaN   \n",
              "39                                                NaN   \n",
              "40                                                NaN   \n",
              "41                                                NaN   \n",
              "42                                                NaN   \n",
              "43                                                NaN   \n",
              "44                                                NaN   \n",
              "45                                                NaN   \n",
              "46                                                NaN   \n",
              "47                                                NaN   \n",
              "48                                                NaN   \n",
              "49                                                NaN   \n",
              "\n",
              "                                                    4  \n",
              "0                                                 NaN  \n",
              "1                                                 NaN  \n",
              "2                                                 NaN  \n",
              "3                                                 NaN  \n",
              "4                                                 NaN  \n",
              "5                                                 NaN  \n",
              "6                                                 NaN  \n",
              "7                                                 NaN  \n",
              "8                                                 NaN  \n",
              "9                                                 NaN  \n",
              "10                                                NaN  \n",
              "11                                                NaN  \n",
              "12                                                NaN  \n",
              "13                                                NaN  \n",
              "14                                                NaN  \n",
              "15                                                NaN  \n",
              "16                                                NaN  \n",
              "17                                                NaN  \n",
              "18                                                NaN  \n",
              "19  \"If someone is found guilty of murder based on...  \n",
              "20                                                NaN  \n",
              "21                                                NaN  \n",
              "22                                                NaN  \n",
              "23                                                NaN  \n",
              "24                                                NaN  \n",
              "25                                                NaN  \n",
              "26                                                NaN  \n",
              "27                                                NaN  \n",
              "28                                                NaN  \n",
              "29                                                NaN  \n",
              "30                                                NaN  \n",
              "31                                                NaN  \n",
              "32                                                NaN  \n",
              "33                                                NaN  \n",
              "34                                                NaN  \n",
              "35                                                NaN  \n",
              "36                                                NaN  \n",
              "37                                                NaN  \n",
              "38                                                NaN  \n",
              "39                                                NaN  \n",
              "40                                                NaN  \n",
              "41                                                NaN  \n",
              "42                                                NaN  \n",
              "43                                                NaN  \n",
              "44                                                NaN  \n",
              "45                                                NaN  \n",
              "46                                                NaN  \n",
              "47                                                NaN  \n",
              "48                                                NaN  \n",
              "49                                                NaN  "
            ]
          },
          "execution_count": 19,
          "metadata": {},
          "output_type": "execute_result"
        }
      ],
      "source": [
        "hg = pd.read_csv(\"organised_queries.csv\")\n",
        "hg"
      ]
    }
  ],
  "metadata": {
    "colab": {
      "provenance": []
    },
    "kernelspec": {
      "display_name": "Python 3",
      "language": "python",
      "name": "python3"
    },
    "language_info": {
      "codemirror_mode": {
        "name": "ipython",
        "version": 3
      },
      "file_extension": ".py",
      "mimetype": "text/x-python",
      "name": "python",
      "nbconvert_exporter": "python",
      "pygments_lexer": "ipython3",
      "version": "3.13.0"
    }
  },
  "nbformat": 4,
  "nbformat_minor": 0
}
