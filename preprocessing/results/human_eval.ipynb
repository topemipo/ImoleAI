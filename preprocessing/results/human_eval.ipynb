{
 "cells": [
  {
   "cell_type": "code",
   "execution_count": 2,
   "metadata": {},
   "outputs": [],
   "source": [
    "import pandas as pd"
   ]
  },
  {
   "cell_type": "code",
   "execution_count": 6,
   "metadata": {},
   "outputs": [],
   "source": [
    "df = pd.read_csv(\"/Users/temit/Documents/Project/Coding/preprocessing/results/HumanEval_ResponseForm.csv\")"
   ]
  },
  {
   "cell_type": "code",
   "execution_count": 9,
   "metadata": {},
   "outputs": [
    {
     "data": {
      "application/vnd.microsoft.datawrangler.viewer.v0+json": {
       "columns": [
        {
         "name": "index",
         "rawType": "int64",
         "type": "integer"
        },
        {
         "name": "What number did you pick?",
         "rawType": "int64",
         "type": "integer"
        },
        {
         "name": "What is the name of the case returned?",
         "rawType": "object",
         "type": "string"
        }
       ],
       "conversionMethod": "pd.DataFrame",
       "ref": "cefd7cb6-b66b-48e9-85c1-0b6ea0b8e822",
       "rows": [
        [
         "0",
         "1",
         "Ranchhodji Chaturji Thakore v The Superintendent Engineer, Gujarat Electricity Board, Himmatnagar"
        ],
        [
         "1",
         "2",
         "State of Uttar Pradesh v Mohammad Naim"
        ],
        [
         "2",
         "3",
         "Pepsi Foods Limited and Another v. Special Judicial Magistrate and Others"
        ],
        [
         "3",
         "4",
         "State Of Bihar v Ramesh Singh (Criminal Appeal No. 51 of 1977)"
        ],
        [
         "4",
         "5",
         "Hari Kishan And Anr. v Sukhbir Singh And Ors (Criminal Appeal No. 74 and 75 of 1986)"
        ],
        [
         "5",
         "6",
         "State of Punjab and Others v Ram Lubhaya Bagga and Others"
        ],
        [
         "6",
         "7",
         "C. Chenga Reddy and Others v State of Andhra Pradesh"
        ],
        [
         "7",
         "7",
         "Crime"
        ],
        [
         "8",
         "8",
         "Padala Veera Reddy v State of Andhra Pradesh and Others (Criminal Appeal No. 420 of 1989)"
        ],
        [
         "9",
         "9",
         "Ghurey Lal v State of Uttar Pradesh"
        ],
        [
         "10",
         "10",
         "If five people are charged with the same crime, why was \nonly one person's appeal accepted while the others were rejected? Is this \nfair?\""
        ],
        [
         "11",
         "11",
         "T.A. Abdul Rahman v State Of Kerala And Ors."
        ],
        [
         "12",
         "12",
         "Rajendrakumar Natvarlal Shah v State of Gujarat and Others"
        ],
        [
         "13",
         "13",
         "Ranchhodji Chaturji Thakore v The Superintendent Engineer, Gujarat Electricity Board, Himmatnagar"
        ],
        [
         "14",
         "13",
         "Kuldeep Singh v Commissioner of Police and Others"
        ],
        [
         "15",
         "14",
         "Ghurey Lal v State of Uttar Pradesh (Supreme Court of India, 2008)"
        ],
        [
         "16",
         "15",
         "My mother witnessed my father's murder and was injured trying to save him. She testified in court, but the attackers were found not guilty. Now a higher court reversed that decision - is this common in murder cases?\"\n"
        ],
        [
         "17",
         "17",
         "Rajendrakumar Natvarlal Shah v State of Gujarat and Others"
        ],
        [
         "18",
         "18",
         "S. V. Chandra Pandian and Others v S. V. Sivalinga Nadar and Others, Supreme Court of India (1993)"
        ],
        [
         "19",
         "19",
         "Ghurey Lal v State of Uttar Pradesh (Supreme Court of India, 2008)"
        ],
        [
         "20",
         "20",
         "Brij Mohan and Others v. State of Rajasthan"
        ],
        [
         "21",
         "21",
         "Secretary, State of Karnataka and Others v. Umadevi and Others"
        ],
        [
         "22",
         "22",
         " Padala Veera Reddy v State of Andhra Pradesh and Others (Criminal Appeal No. 420 of 1989)"
        ],
        [
         "23",
         "24",
         " Shriram Mandir Sansthan Alias Shri Ram Sansthan Pusda v Vatsalabai and Others"
        ],
        [
         "24",
         "25",
         "Panna Lal Ghosh and Others v Land Acquisition Collector and Others"
        ],
        [
         "25",
         "26",
         "Teri Oat Estates (Private) Limited v U.T., Chandigarh and others [Supreme Court of India]"
        ],
        [
         "26",
         "27",
         "Legal advice on Certificate of Sponsorship "
        ],
        [
         "27",
         "28",
         "Daya Singh v State of Haryana (Criminal Appeal No. 416 of 1998)"
        ],
        [
         "28",
         "30",
         "Narendra Singh & Anr v State Of M.P."
        ],
        [
         "29",
         "31",
         "NO case returned "
        ],
        [
         "30",
         "32",
         " Ghurey Lal v State of Uttar Pradesh (Supreme Court of India, 2008)"
        ],
        [
         "31",
         "33",
         "C.S. D. Swamy v State of India"
        ],
        [
         "32",
         "34",
         " Parkash Singh Badal And Anr v State Of Punjab And Ors"
        ],
        [
         "33",
         "35",
         " Surinder Kumar v Union Territory, Chandigarh"
        ],
        [
         "34",
         "36",
         "State of Punjab and Others v Ram Lubhaya Bagga and Others"
        ],
        [
         "35",
         "37",
         "Zafar v State of U.P."
        ],
        [
         "36",
         "38",
         " Pepsi Foods Limited and Another v. Special Judicial Magistrate and Others"
        ],
        [
         "37",
         "39",
         " \"A foreign student was accused of murdering his classmate \nand stealing her belongings, but was later found not guilty by the High \nCourt. Can the prosecution appeal this decision and try to convict him \nagain?\""
        ],
        [
         "38",
         "40",
         " Dr Ms. O.Z. Hussain v Union Of India And Ors."
        ],
        [
         "39",
         "41",
         "Zafar v State of U.P."
        ],
        [
         "40",
         "42",
         " C. Chenga Reddy and Others v State of Andhra Pradesh"
        ],
        [
         "41",
         "43",
         "Sh. Satish Mehra v Delhi Administration"
        ],
        [
         "42",
         "45",
         "GHUREY LAL V state of uttar pradesh (Supreme court of India,2008)"
        ],
        [
         "43",
         "46",
         "Ghurey Lal v State of Uttar Pradesh"
        ],
        [
         "44",
         "47",
         " Ghurey Lal v State of Uttar Pradesh (Supreme Court of India, 2008)"
        ],
        [
         "45",
         "49",
         " Ranchhodji Chaturji Thakore v The Superintendent Engineer, Gujarat Electricity Board, Himmatnagar"
        ],
        [
         "46",
         "50",
         "R. K. Lakshmanan v A. K. Srinivasan and Another"
        ]
       ],
       "shape": {
        "columns": 2,
        "rows": 47
       }
      },
      "text/html": [
       "<div>\n",
       "<style scoped>\n",
       "    .dataframe tbody tr th:only-of-type {\n",
       "        vertical-align: middle;\n",
       "    }\n",
       "\n",
       "    .dataframe tbody tr th {\n",
       "        vertical-align: top;\n",
       "    }\n",
       "\n",
       "    .dataframe thead th {\n",
       "        text-align: right;\n",
       "    }\n",
       "</style>\n",
       "<table border=\"1\" class=\"dataframe\">\n",
       "  <thead>\n",
       "    <tr style=\"text-align: right;\">\n",
       "      <th></th>\n",
       "      <th>What number did you pick?</th>\n",
       "      <th>What is the name of the case returned?</th>\n",
       "    </tr>\n",
       "  </thead>\n",
       "  <tbody>\n",
       "    <tr>\n",
       "      <th>0</th>\n",
       "      <td>1</td>\n",
       "      <td>Ranchhodji Chaturji Thakore v The Superintende...</td>\n",
       "    </tr>\n",
       "    <tr>\n",
       "      <th>1</th>\n",
       "      <td>2</td>\n",
       "      <td>State of Uttar Pradesh v Mohammad Naim</td>\n",
       "    </tr>\n",
       "    <tr>\n",
       "      <th>2</th>\n",
       "      <td>3</td>\n",
       "      <td>Pepsi Foods Limited and Another v. Special Jud...</td>\n",
       "    </tr>\n",
       "    <tr>\n",
       "      <th>3</th>\n",
       "      <td>4</td>\n",
       "      <td>State Of Bihar v Ramesh Singh (Criminal Appeal...</td>\n",
       "    </tr>\n",
       "    <tr>\n",
       "      <th>4</th>\n",
       "      <td>5</td>\n",
       "      <td>Hari Kishan And Anr. v Sukhbir Singh And Ors (...</td>\n",
       "    </tr>\n",
       "    <tr>\n",
       "      <th>5</th>\n",
       "      <td>6</td>\n",
       "      <td>State of Punjab and Others v Ram Lubhaya Bagga...</td>\n",
       "    </tr>\n",
       "    <tr>\n",
       "      <th>6</th>\n",
       "      <td>7</td>\n",
       "      <td>C. Chenga Reddy and Others v State of Andhra P...</td>\n",
       "    </tr>\n",
       "    <tr>\n",
       "      <th>7</th>\n",
       "      <td>7</td>\n",
       "      <td>Crime</td>\n",
       "    </tr>\n",
       "    <tr>\n",
       "      <th>8</th>\n",
       "      <td>8</td>\n",
       "      <td>Padala Veera Reddy v State of Andhra Pradesh a...</td>\n",
       "    </tr>\n",
       "    <tr>\n",
       "      <th>9</th>\n",
       "      <td>9</td>\n",
       "      <td>Ghurey Lal v State of Uttar Pradesh</td>\n",
       "    </tr>\n",
       "    <tr>\n",
       "      <th>10</th>\n",
       "      <td>10</td>\n",
       "      <td>If five people are charged with the same crime...</td>\n",
       "    </tr>\n",
       "    <tr>\n",
       "      <th>11</th>\n",
       "      <td>11</td>\n",
       "      <td>T.A. Abdul Rahman v State Of Kerala And Ors.</td>\n",
       "    </tr>\n",
       "    <tr>\n",
       "      <th>12</th>\n",
       "      <td>12</td>\n",
       "      <td>Rajendrakumar Natvarlal Shah v State of Gujara...</td>\n",
       "    </tr>\n",
       "    <tr>\n",
       "      <th>13</th>\n",
       "      <td>13</td>\n",
       "      <td>Ranchhodji Chaturji Thakore v The Superintende...</td>\n",
       "    </tr>\n",
       "    <tr>\n",
       "      <th>14</th>\n",
       "      <td>13</td>\n",
       "      <td>Kuldeep Singh v Commissioner of Police and Others</td>\n",
       "    </tr>\n",
       "    <tr>\n",
       "      <th>15</th>\n",
       "      <td>14</td>\n",
       "      <td>Ghurey Lal v State of Uttar Pradesh (Supreme C...</td>\n",
       "    </tr>\n",
       "    <tr>\n",
       "      <th>16</th>\n",
       "      <td>15</td>\n",
       "      <td>My mother witnessed my father's murder and was...</td>\n",
       "    </tr>\n",
       "    <tr>\n",
       "      <th>17</th>\n",
       "      <td>17</td>\n",
       "      <td>Rajendrakumar Natvarlal Shah v State of Gujara...</td>\n",
       "    </tr>\n",
       "    <tr>\n",
       "      <th>18</th>\n",
       "      <td>18</td>\n",
       "      <td>S. V. Chandra Pandian and Others v S. V. Sival...</td>\n",
       "    </tr>\n",
       "    <tr>\n",
       "      <th>19</th>\n",
       "      <td>19</td>\n",
       "      <td>Ghurey Lal v State of Uttar Pradesh (Supreme C...</td>\n",
       "    </tr>\n",
       "    <tr>\n",
       "      <th>20</th>\n",
       "      <td>20</td>\n",
       "      <td>Brij Mohan and Others v. State of Rajasthan</td>\n",
       "    </tr>\n",
       "    <tr>\n",
       "      <th>21</th>\n",
       "      <td>21</td>\n",
       "      <td>Secretary, State of Karnataka and Others v. Um...</td>\n",
       "    </tr>\n",
       "    <tr>\n",
       "      <th>22</th>\n",
       "      <td>22</td>\n",
       "      <td>Padala Veera Reddy v State of Andhra Pradesh ...</td>\n",
       "    </tr>\n",
       "    <tr>\n",
       "      <th>23</th>\n",
       "      <td>24</td>\n",
       "      <td>Shriram Mandir Sansthan Alias Shri Ram Sansth...</td>\n",
       "    </tr>\n",
       "    <tr>\n",
       "      <th>24</th>\n",
       "      <td>25</td>\n",
       "      <td>Panna Lal Ghosh and Others v Land Acquisition ...</td>\n",
       "    </tr>\n",
       "    <tr>\n",
       "      <th>25</th>\n",
       "      <td>26</td>\n",
       "      <td>Teri Oat Estates (Private) Limited v U.T., Cha...</td>\n",
       "    </tr>\n",
       "    <tr>\n",
       "      <th>26</th>\n",
       "      <td>27</td>\n",
       "      <td>Legal advice on Certificate of Sponsorship</td>\n",
       "    </tr>\n",
       "    <tr>\n",
       "      <th>27</th>\n",
       "      <td>28</td>\n",
       "      <td>Daya Singh v State of Haryana (Criminal Appeal...</td>\n",
       "    </tr>\n",
       "    <tr>\n",
       "      <th>28</th>\n",
       "      <td>30</td>\n",
       "      <td>Narendra Singh &amp; Anr v State Of M.P.</td>\n",
       "    </tr>\n",
       "    <tr>\n",
       "      <th>29</th>\n",
       "      <td>31</td>\n",
       "      <td>NO case returned</td>\n",
       "    </tr>\n",
       "    <tr>\n",
       "      <th>30</th>\n",
       "      <td>32</td>\n",
       "      <td>Ghurey Lal v State of Uttar Pradesh (Supreme ...</td>\n",
       "    </tr>\n",
       "    <tr>\n",
       "      <th>31</th>\n",
       "      <td>33</td>\n",
       "      <td>C.S. D. Swamy v State of India</td>\n",
       "    </tr>\n",
       "    <tr>\n",
       "      <th>32</th>\n",
       "      <td>34</td>\n",
       "      <td>Parkash Singh Badal And Anr v State Of Punjab...</td>\n",
       "    </tr>\n",
       "    <tr>\n",
       "      <th>33</th>\n",
       "      <td>35</td>\n",
       "      <td>Surinder Kumar v Union Territory, Chandigarh</td>\n",
       "    </tr>\n",
       "    <tr>\n",
       "      <th>34</th>\n",
       "      <td>36</td>\n",
       "      <td>State of Punjab and Others v Ram Lubhaya Bagga...</td>\n",
       "    </tr>\n",
       "    <tr>\n",
       "      <th>35</th>\n",
       "      <td>37</td>\n",
       "      <td>Zafar v State of U.P.</td>\n",
       "    </tr>\n",
       "    <tr>\n",
       "      <th>36</th>\n",
       "      <td>38</td>\n",
       "      <td>Pepsi Foods Limited and Another v. Special Ju...</td>\n",
       "    </tr>\n",
       "    <tr>\n",
       "      <th>37</th>\n",
       "      <td>39</td>\n",
       "      <td>\"A foreign student was accused of murdering h...</td>\n",
       "    </tr>\n",
       "    <tr>\n",
       "      <th>38</th>\n",
       "      <td>40</td>\n",
       "      <td>Dr Ms. O.Z. Hussain v Union Of India And Ors.</td>\n",
       "    </tr>\n",
       "    <tr>\n",
       "      <th>39</th>\n",
       "      <td>41</td>\n",
       "      <td>Zafar v State of U.P.</td>\n",
       "    </tr>\n",
       "    <tr>\n",
       "      <th>40</th>\n",
       "      <td>42</td>\n",
       "      <td>C. Chenga Reddy and Others v State of Andhra ...</td>\n",
       "    </tr>\n",
       "    <tr>\n",
       "      <th>41</th>\n",
       "      <td>43</td>\n",
       "      <td>Sh. Satish Mehra v Delhi Administration</td>\n",
       "    </tr>\n",
       "    <tr>\n",
       "      <th>42</th>\n",
       "      <td>45</td>\n",
       "      <td>GHUREY LAL V state of uttar pradesh (Supreme c...</td>\n",
       "    </tr>\n",
       "    <tr>\n",
       "      <th>43</th>\n",
       "      <td>46</td>\n",
       "      <td>Ghurey Lal v State of Uttar Pradesh</td>\n",
       "    </tr>\n",
       "    <tr>\n",
       "      <th>44</th>\n",
       "      <td>47</td>\n",
       "      <td>Ghurey Lal v State of Uttar Pradesh (Supreme ...</td>\n",
       "    </tr>\n",
       "    <tr>\n",
       "      <th>45</th>\n",
       "      <td>49</td>\n",
       "      <td>Ranchhodji Chaturji Thakore v The Superintend...</td>\n",
       "    </tr>\n",
       "    <tr>\n",
       "      <th>46</th>\n",
       "      <td>50</td>\n",
       "      <td>R. K. Lakshmanan v A. K. Srinivasan and Another</td>\n",
       "    </tr>\n",
       "  </tbody>\n",
       "</table>\n",
       "</div>"
      ],
      "text/plain": [
       "    What number did you pick?  \\\n",
       "0                           1   \n",
       "1                           2   \n",
       "2                           3   \n",
       "3                           4   \n",
       "4                           5   \n",
       "5                           6   \n",
       "6                           7   \n",
       "7                           7   \n",
       "8                           8   \n",
       "9                           9   \n",
       "10                         10   \n",
       "11                         11   \n",
       "12                         12   \n",
       "13                         13   \n",
       "14                         13   \n",
       "15                         14   \n",
       "16                         15   \n",
       "17                         17   \n",
       "18                         18   \n",
       "19                         19   \n",
       "20                         20   \n",
       "21                         21   \n",
       "22                         22   \n",
       "23                         24   \n",
       "24                         25   \n",
       "25                         26   \n",
       "26                         27   \n",
       "27                         28   \n",
       "28                         30   \n",
       "29                         31   \n",
       "30                         32   \n",
       "31                         33   \n",
       "32                         34   \n",
       "33                         35   \n",
       "34                         36   \n",
       "35                         37   \n",
       "36                         38   \n",
       "37                         39   \n",
       "38                         40   \n",
       "39                         41   \n",
       "40                         42   \n",
       "41                         43   \n",
       "42                         45   \n",
       "43                         46   \n",
       "44                         47   \n",
       "45                         49   \n",
       "46                         50   \n",
       "\n",
       "               What is the name of the case returned?  \n",
       "0   Ranchhodji Chaturji Thakore v The Superintende...  \n",
       "1              State of Uttar Pradesh v Mohammad Naim  \n",
       "2   Pepsi Foods Limited and Another v. Special Jud...  \n",
       "3   State Of Bihar v Ramesh Singh (Criminal Appeal...  \n",
       "4   Hari Kishan And Anr. v Sukhbir Singh And Ors (...  \n",
       "5   State of Punjab and Others v Ram Lubhaya Bagga...  \n",
       "6   C. Chenga Reddy and Others v State of Andhra P...  \n",
       "7                                               Crime  \n",
       "8   Padala Veera Reddy v State of Andhra Pradesh a...  \n",
       "9                 Ghurey Lal v State of Uttar Pradesh  \n",
       "10  If five people are charged with the same crime...  \n",
       "11       T.A. Abdul Rahman v State Of Kerala And Ors.  \n",
       "12  Rajendrakumar Natvarlal Shah v State of Gujara...  \n",
       "13  Ranchhodji Chaturji Thakore v The Superintende...  \n",
       "14  Kuldeep Singh v Commissioner of Police and Others  \n",
       "15  Ghurey Lal v State of Uttar Pradesh (Supreme C...  \n",
       "16  My mother witnessed my father's murder and was...  \n",
       "17  Rajendrakumar Natvarlal Shah v State of Gujara...  \n",
       "18  S. V. Chandra Pandian and Others v S. V. Sival...  \n",
       "19  Ghurey Lal v State of Uttar Pradesh (Supreme C...  \n",
       "20        Brij Mohan and Others v. State of Rajasthan  \n",
       "21  Secretary, State of Karnataka and Others v. Um...  \n",
       "22   Padala Veera Reddy v State of Andhra Pradesh ...  \n",
       "23   Shriram Mandir Sansthan Alias Shri Ram Sansth...  \n",
       "24  Panna Lal Ghosh and Others v Land Acquisition ...  \n",
       "25  Teri Oat Estates (Private) Limited v U.T., Cha...  \n",
       "26        Legal advice on Certificate of Sponsorship   \n",
       "27  Daya Singh v State of Haryana (Criminal Appeal...  \n",
       "28               Narendra Singh & Anr v State Of M.P.  \n",
       "29                                  NO case returned   \n",
       "30   Ghurey Lal v State of Uttar Pradesh (Supreme ...  \n",
       "31                     C.S. D. Swamy v State of India  \n",
       "32   Parkash Singh Badal And Anr v State Of Punjab...  \n",
       "33       Surinder Kumar v Union Territory, Chandigarh  \n",
       "34  State of Punjab and Others v Ram Lubhaya Bagga...  \n",
       "35                              Zafar v State of U.P.  \n",
       "36   Pepsi Foods Limited and Another v. Special Ju...  \n",
       "37   \"A foreign student was accused of murdering h...  \n",
       "38      Dr Ms. O.Z. Hussain v Union Of India And Ors.  \n",
       "39                              Zafar v State of U.P.  \n",
       "40   C. Chenga Reddy and Others v State of Andhra ...  \n",
       "41            Sh. Satish Mehra v Delhi Administration  \n",
       "42  GHUREY LAL V state of uttar pradesh (Supreme c...  \n",
       "43                Ghurey Lal v State of Uttar Pradesh  \n",
       "44   Ghurey Lal v State of Uttar Pradesh (Supreme ...  \n",
       "45   Ranchhodji Chaturji Thakore v The Superintend...  \n",
       "46    R. K. Lakshmanan v A. K. Srinivasan and Another  "
      ]
     },
     "execution_count": 9,
     "metadata": {},
     "output_type": "execute_result"
    }
   ],
   "source": [
    "df.iloc[:,[1,2]]"
   ]
  }
 ],
 "metadata": {
  "kernelspec": {
   "display_name": "Python 3",
   "language": "python",
   "name": "python3"
  },
  "language_info": {
   "codemirror_mode": {
    "name": "ipython",
    "version": 3
   },
   "file_extension": ".py",
   "mimetype": "text/x-python",
   "name": "python",
   "nbconvert_exporter": "python",
   "pygments_lexer": "ipython3",
   "version": "3.13.0"
  }
 },
 "nbformat": 4,
 "nbformat_minor": 2
}
